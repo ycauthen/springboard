{
 "cells": [
  {
   "cell_type": "markdown",
   "metadata": {},
   "source": [
    "# Lending Club Preprocessing / Training Part 1"
   ]
  },
  {
   "cell_type": "code",
   "execution_count": 22,
   "metadata": {},
   "outputs": [],
   "source": [
    "import numpy as np\n",
    "import pandas as pd\n",
    "import pickle\n",
    "import datetime\n",
    "\n",
    "import plotly.express as px\n",
    "import matplotlib.pyplot as plt\n",
    "import seaborn as sns\n",
    "sns.set_style('darkgrid')\n",
    "\n",
    "from sklearn import preprocessing\n",
    "from sklearn.model_selection import train_test_split\n",
    "from sklearn.preprocessing import StandardScaler\n",
    "from imblearn.over_sampling import RandomOverSampler, SMOTE\n",
    "\n",
    "from sklearn.linear_model import LogisticRegression\n",
    "\n",
    "from sklearn.metrics import confusion_matrix, classification_report\n",
    "\n",
    "import warnings\n",
    "warnings.filterwarnings(action = 'ignore')"
   ]
  },
  {
   "cell_type": "code",
   "execution_count": 23,
   "metadata": {},
   "outputs": [],
   "source": [
    "with open('lending_club_missingvals_pick.pkl', 'rb') as pickle_file:\n",
    "    data = pickle.load(pickle_file)"
   ]
  },
  {
   "cell_type": "code",
   "execution_count": 24,
   "metadata": {},
   "outputs": [
    {
     "data": {
      "text/plain": [
       "(2260668, 108)"
      ]
     },
     "execution_count": 24,
     "metadata": {},
     "output_type": "execute_result"
    }
   ],
   "source": [
    "data.shape"
   ]
  },
  {
   "cell_type": "code",
   "execution_count": 25,
   "metadata": {},
   "outputs": [],
   "source": [
    "pd.set_option('display.float_format', lambda x: '%.5f' % x)\n",
    "#pd.reset_option('display.float_format')\n",
    "pd.set_option('display.max_columns', None)"
   ]
  },
  {
   "cell_type": "markdown",
   "metadata": {},
   "source": [
    "# Visualizing Distribution of Data Types"
   ]
  },
  {
   "cell_type": "code",
   "execution_count": 26,
   "metadata": {
    "scrolled": true
   },
   "outputs": [
    {
     "data": {
      "text/plain": [
       "Text(0, 0.5, 'Data type')"
      ]
     },
     "execution_count": 26,
     "metadata": {},
     "output_type": "execute_result"
    },
    {
     "data": {
      "image/png": "[encoded data removed]",
      "text/plain": [
       "<Figure size 432x288 with 1 Axes>"
      ]
     },
     "metadata": {},
     "output_type": "display_data"
    }
   ],
   "source": [
    "data.dtypes.value_counts().sort_values().plot(kind='barh')\n",
    "plt.title('Number of columns distributed by Data Types',fontsize=20)\n",
    "plt.xlabel('Number of columns',fontsize=15)\n",
    "plt.ylabel('Data type',fontsize=15)"
   ]
  },
  {
   "cell_type": "code",
   "execution_count": 27,
   "metadata": {
    "scrolled": true
   },
   "outputs": [
    {
     "data": {
      "text/html": [
       "<div>\n",
       "<style scoped>\n",
       "    .dataframe tbody tr th:only-of-type {\n",
       "        vertical-align: middle;\n",
       "    }\n",
       "\n",
       "    .dataframe tbody tr th {\n",
       "        vertical-align: top;\n",
       "    }\n",
       "\n",
       "    .dataframe thead th {\n",
       "        text-align: right;\n",
       "    }\n",
       "</style>\n",
       "<table border=\"1\" class=\"dataframe\">\n",
       "  <thead>\n",
       "    <tr style=\"text-align: right;\">\n",
       "      <th></th>\n",
       "      <th>grade</th>\n",
       "      <th>sub_grade</th>\n",
       "      <th>home_ownership</th>\n",
       "      <th>verification_status</th>\n",
       "      <th>loan_status</th>\n",
       "      <th>pymnt_plan</th>\n",
       "      <th>purpose</th>\n",
       "      <th>addr_state</th>\n",
       "      <th>initial_list_status</th>\n",
       "      <th>application_type</th>\n",
       "      <th>hardship_flag</th>\n",
       "      <th>disbursement_method</th>\n",
       "      <th>debt_settlement_flag</th>\n",
       "    </tr>\n",
       "  </thead>\n",
       "  <tbody>\n",
       "    <tr>\n",
       "      <th>0</th>\n",
       "      <td>C</td>\n",
       "      <td>C4</td>\n",
       "      <td>MORTGAGE</td>\n",
       "      <td>Not Verified</td>\n",
       "      <td>Fully Paid</td>\n",
       "      <td>n</td>\n",
       "      <td>debt_consolidation</td>\n",
       "      <td>PA</td>\n",
       "      <td>w</td>\n",
       "      <td>Individual</td>\n",
       "      <td>N</td>\n",
       "      <td>Cash</td>\n",
       "      <td>N</td>\n",
       "    </tr>\n",
       "    <tr>\n",
       "      <th>1</th>\n",
       "      <td>C</td>\n",
       "      <td>C1</td>\n",
       "      <td>MORTGAGE</td>\n",
       "      <td>Not Verified</td>\n",
       "      <td>Fully Paid</td>\n",
       "      <td>n</td>\n",
       "      <td>small_business</td>\n",
       "      <td>SD</td>\n",
       "      <td>w</td>\n",
       "      <td>Individual</td>\n",
       "      <td>N</td>\n",
       "      <td>Cash</td>\n",
       "      <td>N</td>\n",
       "    </tr>\n",
       "    <tr>\n",
       "      <th>2</th>\n",
       "      <td>B</td>\n",
       "      <td>B4</td>\n",
       "      <td>MORTGAGE</td>\n",
       "      <td>Not Verified</td>\n",
       "      <td>Fully Paid</td>\n",
       "      <td>n</td>\n",
       "      <td>home_improvement</td>\n",
       "      <td>IL</td>\n",
       "      <td>w</td>\n",
       "      <td>Joint App</td>\n",
       "      <td>N</td>\n",
       "      <td>Cash</td>\n",
       "      <td>N</td>\n",
       "    </tr>\n",
       "    <tr>\n",
       "      <th>3</th>\n",
       "      <td>C</td>\n",
       "      <td>C5</td>\n",
       "      <td>MORTGAGE</td>\n",
       "      <td>Source Verified</td>\n",
       "      <td>Current</td>\n",
       "      <td>n</td>\n",
       "      <td>debt_consolidation</td>\n",
       "      <td>NJ</td>\n",
       "      <td>w</td>\n",
       "      <td>Individual</td>\n",
       "      <td>N</td>\n",
       "      <td>Cash</td>\n",
       "      <td>N</td>\n",
       "    </tr>\n",
       "    <tr>\n",
       "      <th>4</th>\n",
       "      <td>F</td>\n",
       "      <td>F1</td>\n",
       "      <td>MORTGAGE</td>\n",
       "      <td>Source Verified</td>\n",
       "      <td>Fully Paid</td>\n",
       "      <td>n</td>\n",
       "      <td>major_purchase</td>\n",
       "      <td>PA</td>\n",
       "      <td>w</td>\n",
       "      <td>Individual</td>\n",
       "      <td>N</td>\n",
       "      <td>Cash</td>\n",
       "      <td>N</td>\n",
       "    </tr>\n",
       "    <tr>\n",
       "      <th>...</th>\n",
       "      <td>...</td>\n",
       "      <td>...</td>\n",
       "      <td>...</td>\n",
       "      <td>...</td>\n",
       "      <td>...</td>\n",
       "      <td>...</td>\n",
       "      <td>...</td>\n",
       "      <td>...</td>\n",
       "      <td>...</td>\n",
       "      <td>...</td>\n",
       "      <td>...</td>\n",
       "      <td>...</td>\n",
       "      <td>...</td>\n",
       "    </tr>\n",
       "    <tr>\n",
       "      <th>2260694</th>\n",
       "      <td>C</td>\n",
       "      <td>C1</td>\n",
       "      <td>MORTGAGE</td>\n",
       "      <td>Source Verified</td>\n",
       "      <td>Current</td>\n",
       "      <td>n</td>\n",
       "      <td>home_improvement</td>\n",
       "      <td>AL</td>\n",
       "      <td>f</td>\n",
       "      <td>Individual</td>\n",
       "      <td>N</td>\n",
       "      <td>Cash</td>\n",
       "      <td>N</td>\n",
       "    </tr>\n",
       "    <tr>\n",
       "      <th>2260695</th>\n",
       "      <td>B</td>\n",
       "      <td>B3</td>\n",
       "      <td>MORTGAGE</td>\n",
       "      <td>Not Verified</td>\n",
       "      <td>Current</td>\n",
       "      <td>n</td>\n",
       "      <td>debt_consolidation</td>\n",
       "      <td>UT</td>\n",
       "      <td>f</td>\n",
       "      <td>Individual</td>\n",
       "      <td>N</td>\n",
       "      <td>Cash</td>\n",
       "      <td>N</td>\n",
       "    </tr>\n",
       "    <tr>\n",
       "      <th>2260696</th>\n",
       "      <td>B</td>\n",
       "      <td>B3</td>\n",
       "      <td>MORTGAGE</td>\n",
       "      <td>Verified</td>\n",
       "      <td>Current</td>\n",
       "      <td>n</td>\n",
       "      <td>debt_consolidation</td>\n",
       "      <td>CA</td>\n",
       "      <td>f</td>\n",
       "      <td>Individual</td>\n",
       "      <td>N</td>\n",
       "      <td>Cash</td>\n",
       "      <td>N</td>\n",
       "    </tr>\n",
       "    <tr>\n",
       "      <th>2260697</th>\n",
       "      <td>C</td>\n",
       "      <td>C4</td>\n",
       "      <td>RENT</td>\n",
       "      <td>Not Verified</td>\n",
       "      <td>Charged Off</td>\n",
       "      <td>n</td>\n",
       "      <td>debt_consolidation</td>\n",
       "      <td>FL</td>\n",
       "      <td>f</td>\n",
       "      <td>Individual</td>\n",
       "      <td>N</td>\n",
       "      <td>Cash</td>\n",
       "      <td>Y</td>\n",
       "    </tr>\n",
       "    <tr>\n",
       "      <th>2260698</th>\n",
       "      <td>C</td>\n",
       "      <td>C4</td>\n",
       "      <td>MORTGAGE</td>\n",
       "      <td>Verified</td>\n",
       "      <td>Current</td>\n",
       "      <td>n</td>\n",
       "      <td>debt_consolidation</td>\n",
       "      <td>TX</td>\n",
       "      <td>w</td>\n",
       "      <td>Individual</td>\n",
       "      <td>N</td>\n",
       "      <td>Cash</td>\n",
       "      <td>N</td>\n",
       "    </tr>\n",
       "  </tbody>\n",
       "</table>\n",
       "<p>2260668 rows × 13 columns</p>\n",
       "</div>"
      ],
      "text/plain": [
       "        grade sub_grade home_ownership verification_status  loan_status  \\\n",
       "0           C        C4       MORTGAGE        Not Verified   Fully Paid   \n",
       "1           C        C1       MORTGAGE        Not Verified   Fully Paid   \n",
       "2           B        B4       MORTGAGE        Not Verified   Fully Paid   \n",
       "3           C        C5       MORTGAGE     Source Verified      Current   \n",
       "4           F        F1       MORTGAGE     Source Verified   Fully Paid   \n",
       "...       ...       ...            ...                 ...          ...   \n",
       "2260694     C        C1       MORTGAGE     Source Verified      Current   \n",
       "2260695     B        B3       MORTGAGE        Not Verified      Current   \n",
       "2260696     B        B3       MORTGAGE            Verified      Current   \n",
       "2260697     C        C4           RENT        Not Verified  Charged Off   \n",
       "2260698     C        C4       MORTGAGE            Verified      Current   \n",
       "\n",
       "        pymnt_plan             purpose addr_state initial_list_status  \\\n",
       "0                n  debt_consolidation         PA                   w   \n",
       "1                n      small_business         SD                   w   \n",
       "2                n    home_improvement         IL                   w   \n",
       "3                n  debt_consolidation         NJ                   w   \n",
       "4                n      major_purchase         PA                   w   \n",
       "...            ...                 ...        ...                 ...   \n",
       "2260694          n    home_improvement         AL                   f   \n",
       "2260695          n  debt_consolidation         UT                   f   \n",
       "2260696          n  debt_consolidation         CA                   f   \n",
       "2260697          n  debt_consolidation         FL                   f   \n",
       "2260698          n  debt_consolidation         TX                   w   \n",
       "\n",
       "        application_type hardship_flag disbursement_method  \\\n",
       "0             Individual             N                Cash   \n",
       "1             Individual             N                Cash   \n",
       "2              Joint App             N                Cash   \n",
       "3             Individual             N                Cash   \n",
       "4             Individual             N                Cash   \n",
       "...                  ...           ...                 ...   \n",
       "2260694       Individual             N                Cash   \n",
       "2260695       Individual             N                Cash   \n",
       "2260696       Individual             N                Cash   \n",
       "2260697       Individual             N                Cash   \n",
       "2260698       Individual             N                Cash   \n",
       "\n",
       "        debt_settlement_flag  \n",
       "0                          N  \n",
       "1                          N  \n",
       "2                          N  \n",
       "3                          N  \n",
       "4                          N  \n",
       "...                      ...  \n",
       "2260694                    N  \n",
       "2260695                    N  \n",
       "2260696                    N  \n",
       "2260697                    Y  \n",
       "2260698                    N  \n",
       "\n",
       "[2260668 rows x 13 columns]"
      ]
     },
     "execution_count": 27,
     "metadata": {},
     "output_type": "execute_result"
    }
   ],
   "source": [
    "allobjects = data.dtypes[data.dtypes == 'O'].index\n",
    "allfloats = data.dtypes[data.dtypes == 'float'].index\n",
    "allints = data.dtypes[data.dtypes == 'int64'].index\n",
    "data.loc[:, allobjects]"
   ]
  },
  {
   "cell_type": "code",
   "execution_count": 28,
   "metadata": {
    "scrolled": true
   },
   "outputs": [
    {
     "data": {
      "text/html": [
       "<div>\n",
       "<style scoped>\n",
       "    .dataframe tbody tr th:only-of-type {\n",
       "        vertical-align: middle;\n",
       "    }\n",
       "\n",
       "    .dataframe tbody tr th {\n",
       "        vertical-align: top;\n",
       "    }\n",
       "\n",
       "    .dataframe thead th {\n",
       "        text-align: right;\n",
       "    }\n",
       "</style>\n",
       "<table border=\"1\" class=\"dataframe\">\n",
       "  <thead>\n",
       "    <tr style=\"text-align: right;\">\n",
       "      <th></th>\n",
       "      <th>loan_amnt</th>\n",
       "      <th>funded_amnt</th>\n",
       "      <th>funded_amnt_inv</th>\n",
       "      <th>int_rate</th>\n",
       "      <th>installment</th>\n",
       "      <th>annual_inc</th>\n",
       "      <th>dti</th>\n",
       "      <th>delinq_2yrs</th>\n",
       "      <th>fico_range_low</th>\n",
       "      <th>fico_range_high</th>\n",
       "      <th>inq_last_6mths</th>\n",
       "      <th>mths_since_last_delinq</th>\n",
       "      <th>mths_since_last_record</th>\n",
       "      <th>open_acc</th>\n",
       "      <th>pub_rec</th>\n",
       "      <th>revol_bal</th>\n",
       "      <th>revol_util</th>\n",
       "      <th>total_acc</th>\n",
       "      <th>out_prncp</th>\n",
       "      <th>out_prncp_inv</th>\n",
       "      <th>total_pymnt</th>\n",
       "      <th>total_pymnt_inv</th>\n",
       "      <th>total_rec_prncp</th>\n",
       "      <th>total_rec_int</th>\n",
       "      <th>total_rec_late_fee</th>\n",
       "      <th>recoveries</th>\n",
       "      <th>collection_recovery_fee</th>\n",
       "      <th>last_pymnt_amnt</th>\n",
       "      <th>last_fico_range_high</th>\n",
       "      <th>last_fico_range_low</th>\n",
       "      <th>collections_12_mths_ex_med</th>\n",
       "      <th>mths_since_last_major_derog</th>\n",
       "      <th>acc_now_delinq</th>\n",
       "      <th>tot_coll_amt</th>\n",
       "      <th>tot_cur_bal</th>\n",
       "      <th>open_acc_6m</th>\n",
       "      <th>open_act_il</th>\n",
       "      <th>open_il_12m</th>\n",
       "      <th>open_il_24m</th>\n",
       "      <th>mths_since_rcnt_il</th>\n",
       "      <th>total_bal_il</th>\n",
       "      <th>il_util</th>\n",
       "      <th>open_rv_12m</th>\n",
       "      <th>open_rv_24m</th>\n",
       "      <th>max_bal_bc</th>\n",
       "      <th>all_util</th>\n",
       "      <th>total_rev_hi_lim</th>\n",
       "      <th>inq_fi</th>\n",
       "      <th>total_cu_tl</th>\n",
       "      <th>inq_last_12m</th>\n",
       "      <th>acc_open_past_24mths</th>\n",
       "      <th>avg_cur_bal</th>\n",
       "      <th>bc_open_to_buy</th>\n",
       "      <th>bc_util</th>\n",
       "      <th>chargeoff_within_12_mths</th>\n",
       "      <th>delinq_amnt</th>\n",
       "      <th>mo_sin_old_il_acct</th>\n",
       "      <th>mo_sin_old_rev_tl_op</th>\n",
       "      <th>mo_sin_rcnt_rev_tl_op</th>\n",
       "      <th>mo_sin_rcnt_tl</th>\n",
       "      <th>mort_acc</th>\n",
       "      <th>mths_since_recent_bc</th>\n",
       "      <th>mths_since_recent_bc_dlq</th>\n",
       "      <th>mths_since_recent_inq</th>\n",
       "      <th>mths_since_recent_revol_delinq</th>\n",
       "      <th>num_accts_ever_120_pd</th>\n",
       "      <th>num_actv_bc_tl</th>\n",
       "      <th>num_actv_rev_tl</th>\n",
       "      <th>num_bc_sats</th>\n",
       "      <th>num_bc_tl</th>\n",
       "      <th>num_il_tl</th>\n",
       "      <th>num_op_rev_tl</th>\n",
       "      <th>num_rev_accts</th>\n",
       "      <th>num_rev_tl_bal_gt_0</th>\n",
       "      <th>num_sats</th>\n",
       "      <th>num_tl_120dpd_2m</th>\n",
       "      <th>num_tl_30dpd</th>\n",
       "      <th>num_tl_90g_dpd_24m</th>\n",
       "      <th>num_tl_op_past_12m</th>\n",
       "      <th>pct_tl_nvr_dlq</th>\n",
       "      <th>percent_bc_gt_75</th>\n",
       "      <th>pub_rec_bankruptcies</th>\n",
       "      <th>tax_liens</th>\n",
       "      <th>tot_hi_cred_lim</th>\n",
       "      <th>total_bal_ex_mort</th>\n",
       "      <th>total_bc_limit</th>\n",
       "      <th>total_il_high_credit_limit</th>\n",
       "    </tr>\n",
       "  </thead>\n",
       "  <tbody>\n",
       "    <tr>\n",
       "      <th>0</th>\n",
       "      <td>3600.00000</td>\n",
       "      <td>3600.00000</td>\n",
       "      <td>3600.00000</td>\n",
       "      <td>13.99000</td>\n",
       "      <td>123.03000</td>\n",
       "      <td>55000.00000</td>\n",
       "      <td>5.91000</td>\n",
       "      <td>0.00000</td>\n",
       "      <td>675.00000</td>\n",
       "      <td>679.00000</td>\n",
       "      <td>1.00000</td>\n",
       "      <td>30.00000</td>\n",
       "      <td>72.31284</td>\n",
       "      <td>7.00000</td>\n",
       "      <td>0.00000</td>\n",
       "      <td>2765.00000</td>\n",
       "      <td>29.70000</td>\n",
       "      <td>13.00000</td>\n",
       "      <td>0.00000</td>\n",
       "      <td>0.00000</td>\n",
       "      <td>4421.72392</td>\n",
       "      <td>4421.72000</td>\n",
       "      <td>3600.00000</td>\n",
       "      <td>821.72000</td>\n",
       "      <td>0.00000</td>\n",
       "      <td>0.00000</td>\n",
       "      <td>0.00000</td>\n",
       "      <td>122.67000</td>\n",
       "      <td>564.00000</td>\n",
       "      <td>560.00000</td>\n",
       "      <td>0.00000</td>\n",
       "      <td>30.00000</td>\n",
       "      <td>0.00000</td>\n",
       "      <td>722.00000</td>\n",
       "      <td>144904.00000</td>\n",
       "      <td>2.00000</td>\n",
       "      <td>2.00000</td>\n",
       "      <td>0.00000</td>\n",
       "      <td>1.00000</td>\n",
       "      <td>21.00000</td>\n",
       "      <td>4981.00000</td>\n",
       "      <td>36.00000</td>\n",
       "      <td>3.00000</td>\n",
       "      <td>3.00000</td>\n",
       "      <td>722.00000</td>\n",
       "      <td>34.00000</td>\n",
       "      <td>9300.00000</td>\n",
       "      <td>3.00000</td>\n",
       "      <td>1.00000</td>\n",
       "      <td>4.00000</td>\n",
       "      <td>4.00000</td>\n",
       "      <td>20701.00000</td>\n",
       "      <td>1506.00000</td>\n",
       "      <td>37.20000</td>\n",
       "      <td>0.00000</td>\n",
       "      <td>0.00000</td>\n",
       "      <td>148.00000</td>\n",
       "      <td>128.00000</td>\n",
       "      <td>3.00000</td>\n",
       "      <td>3.00000</td>\n",
       "      <td>1.00000</td>\n",
       "      <td>4.00000</td>\n",
       "      <td>69.00000</td>\n",
       "      <td>4.00000</td>\n",
       "      <td>69.00000</td>\n",
       "      <td>2.00000</td>\n",
       "      <td>2.00000</td>\n",
       "      <td>4.00000</td>\n",
       "      <td>2.00000</td>\n",
       "      <td>5.00000</td>\n",
       "      <td>3.00000</td>\n",
       "      <td>4.00000</td>\n",
       "      <td>9.00000</td>\n",
       "      <td>4.00000</td>\n",
       "      <td>7.00000</td>\n",
       "      <td>0.00000</td>\n",
       "      <td>0.00000</td>\n",
       "      <td>0.00000</td>\n",
       "      <td>3.00000</td>\n",
       "      <td>76.90000</td>\n",
       "      <td>0.00000</td>\n",
       "      <td>0.00000</td>\n",
       "      <td>0.00000</td>\n",
       "      <td>178050.00000</td>\n",
       "      <td>7746.00000</td>\n",
       "      <td>2400.00000</td>\n",
       "      <td>13734.00000</td>\n",
       "    </tr>\n",
       "    <tr>\n",
       "      <th>1</th>\n",
       "      <td>24700.00000</td>\n",
       "      <td>24700.00000</td>\n",
       "      <td>24700.00000</td>\n",
       "      <td>11.99000</td>\n",
       "      <td>820.28000</td>\n",
       "      <td>65000.00000</td>\n",
       "      <td>16.06000</td>\n",
       "      <td>1.00000</td>\n",
       "      <td>715.00000</td>\n",
       "      <td>719.00000</td>\n",
       "      <td>4.00000</td>\n",
       "      <td>6.00000</td>\n",
       "      <td>72.31284</td>\n",
       "      <td>22.00000</td>\n",
       "      <td>0.00000</td>\n",
       "      <td>21470.00000</td>\n",
       "      <td>19.20000</td>\n",
       "      <td>38.00000</td>\n",
       "      <td>0.00000</td>\n",
       "      <td>0.00000</td>\n",
       "      <td>25679.66000</td>\n",
       "      <td>25679.66000</td>\n",
       "      <td>24700.00000</td>\n",
       "      <td>979.66000</td>\n",
       "      <td>0.00000</td>\n",
       "      <td>0.00000</td>\n",
       "      <td>0.00000</td>\n",
       "      <td>926.35000</td>\n",
       "      <td>699.00000</td>\n",
       "      <td>695.00000</td>\n",
       "      <td>0.00000</td>\n",
       "      <td>44.16422</td>\n",
       "      <td>0.00000</td>\n",
       "      <td>0.00000</td>\n",
       "      <td>204396.00000</td>\n",
       "      <td>1.00000</td>\n",
       "      <td>1.00000</td>\n",
       "      <td>0.00000</td>\n",
       "      <td>1.00000</td>\n",
       "      <td>19.00000</td>\n",
       "      <td>18005.00000</td>\n",
       "      <td>73.00000</td>\n",
       "      <td>2.00000</td>\n",
       "      <td>3.00000</td>\n",
       "      <td>6472.00000</td>\n",
       "      <td>29.00000</td>\n",
       "      <td>111800.00000</td>\n",
       "      <td>0.00000</td>\n",
       "      <td>0.00000</td>\n",
       "      <td>6.00000</td>\n",
       "      <td>4.00000</td>\n",
       "      <td>9733.00000</td>\n",
       "      <td>57830.00000</td>\n",
       "      <td>27.10000</td>\n",
       "      <td>0.00000</td>\n",
       "      <td>0.00000</td>\n",
       "      <td>113.00000</td>\n",
       "      <td>192.00000</td>\n",
       "      <td>2.00000</td>\n",
       "      <td>2.00000</td>\n",
       "      <td>4.00000</td>\n",
       "      <td>2.00000</td>\n",
       "      <td>37.00000</td>\n",
       "      <td>0.00000</td>\n",
       "      <td>6.00000</td>\n",
       "      <td>0.00000</td>\n",
       "      <td>5.00000</td>\n",
       "      <td>5.00000</td>\n",
       "      <td>13.00000</td>\n",
       "      <td>17.00000</td>\n",
       "      <td>6.00000</td>\n",
       "      <td>20.00000</td>\n",
       "      <td>27.00000</td>\n",
       "      <td>5.00000</td>\n",
       "      <td>22.00000</td>\n",
       "      <td>0.00000</td>\n",
       "      <td>0.00000</td>\n",
       "      <td>0.00000</td>\n",
       "      <td>2.00000</td>\n",
       "      <td>97.40000</td>\n",
       "      <td>7.70000</td>\n",
       "      <td>0.00000</td>\n",
       "      <td>0.00000</td>\n",
       "      <td>314017.00000</td>\n",
       "      <td>39475.00000</td>\n",
       "      <td>79300.00000</td>\n",
       "      <td>24667.00000</td>\n",
       "    </tr>\n",
       "    <tr>\n",
       "      <th>2</th>\n",
       "      <td>20000.00000</td>\n",
       "      <td>20000.00000</td>\n",
       "      <td>20000.00000</td>\n",
       "      <td>10.78000</td>\n",
       "      <td>432.66000</td>\n",
       "      <td>63000.00000</td>\n",
       "      <td>10.78000</td>\n",
       "      <td>0.00000</td>\n",
       "      <td>695.00000</td>\n",
       "      <td>699.00000</td>\n",
       "      <td>0.00000</td>\n",
       "      <td>34.54092</td>\n",
       "      <td>72.31284</td>\n",
       "      <td>6.00000</td>\n",
       "      <td>0.00000</td>\n",
       "      <td>7869.00000</td>\n",
       "      <td>56.20000</td>\n",
       "      <td>18.00000</td>\n",
       "      <td>0.00000</td>\n",
       "      <td>0.00000</td>\n",
       "      <td>22705.92429</td>\n",
       "      <td>22705.92000</td>\n",
       "      <td>20000.00000</td>\n",
       "      <td>2705.92000</td>\n",
       "      <td>0.00000</td>\n",
       "      <td>0.00000</td>\n",
       "      <td>0.00000</td>\n",
       "      <td>15813.30000</td>\n",
       "      <td>704.00000</td>\n",
       "      <td>700.00000</td>\n",
       "      <td>0.00000</td>\n",
       "      <td>44.16422</td>\n",
       "      <td>0.00000</td>\n",
       "      <td>0.00000</td>\n",
       "      <td>189699.00000</td>\n",
       "      <td>0.00000</td>\n",
       "      <td>1.00000</td>\n",
       "      <td>0.00000</td>\n",
       "      <td>4.00000</td>\n",
       "      <td>19.00000</td>\n",
       "      <td>10827.00000</td>\n",
       "      <td>73.00000</td>\n",
       "      <td>0.00000</td>\n",
       "      <td>2.00000</td>\n",
       "      <td>2081.00000</td>\n",
       "      <td>65.00000</td>\n",
       "      <td>14000.00000</td>\n",
       "      <td>2.00000</td>\n",
       "      <td>5.00000</td>\n",
       "      <td>1.00000</td>\n",
       "      <td>6.00000</td>\n",
       "      <td>31617.00000</td>\n",
       "      <td>2737.00000</td>\n",
       "      <td>55.90000</td>\n",
       "      <td>0.00000</td>\n",
       "      <td>0.00000</td>\n",
       "      <td>125.00000</td>\n",
       "      <td>184.00000</td>\n",
       "      <td>14.00000</td>\n",
       "      <td>14.00000</td>\n",
       "      <td>5.00000</td>\n",
       "      <td>101.00000</td>\n",
       "      <td>37.00000</td>\n",
       "      <td>10.00000</td>\n",
       "      <td>0.00000</td>\n",
       "      <td>0.00000</td>\n",
       "      <td>2.00000</td>\n",
       "      <td>3.00000</td>\n",
       "      <td>2.00000</td>\n",
       "      <td>4.00000</td>\n",
       "      <td>6.00000</td>\n",
       "      <td>4.00000</td>\n",
       "      <td>7.00000</td>\n",
       "      <td>3.00000</td>\n",
       "      <td>6.00000</td>\n",
       "      <td>0.00000</td>\n",
       "      <td>0.00000</td>\n",
       "      <td>0.00000</td>\n",
       "      <td>0.00000</td>\n",
       "      <td>100.00000</td>\n",
       "      <td>50.00000</td>\n",
       "      <td>0.00000</td>\n",
       "      <td>0.00000</td>\n",
       "      <td>218418.00000</td>\n",
       "      <td>18696.00000</td>\n",
       "      <td>6200.00000</td>\n",
       "      <td>14877.00000</td>\n",
       "    </tr>\n",
       "    <tr>\n",
       "      <th>3</th>\n",
       "      <td>35000.00000</td>\n",
       "      <td>35000.00000</td>\n",
       "      <td>35000.00000</td>\n",
       "      <td>14.85000</td>\n",
       "      <td>829.90000</td>\n",
       "      <td>110000.00000</td>\n",
       "      <td>17.06000</td>\n",
       "      <td>0.00000</td>\n",
       "      <td>785.00000</td>\n",
       "      <td>789.00000</td>\n",
       "      <td>0.00000</td>\n",
       "      <td>34.54092</td>\n",
       "      <td>72.31284</td>\n",
       "      <td>13.00000</td>\n",
       "      <td>0.00000</td>\n",
       "      <td>7802.00000</td>\n",
       "      <td>11.60000</td>\n",
       "      <td>17.00000</td>\n",
       "      <td>15897.65000</td>\n",
       "      <td>15897.65000</td>\n",
       "      <td>31464.01000</td>\n",
       "      <td>31464.01000</td>\n",
       "      <td>19102.35000</td>\n",
       "      <td>12361.66000</td>\n",
       "      <td>0.00000</td>\n",
       "      <td>0.00000</td>\n",
       "      <td>0.00000</td>\n",
       "      <td>829.90000</td>\n",
       "      <td>679.00000</td>\n",
       "      <td>675.00000</td>\n",
       "      <td>0.00000</td>\n",
       "      <td>44.16422</td>\n",
       "      <td>0.00000</td>\n",
       "      <td>0.00000</td>\n",
       "      <td>301500.00000</td>\n",
       "      <td>1.00000</td>\n",
       "      <td>1.00000</td>\n",
       "      <td>0.00000</td>\n",
       "      <td>1.00000</td>\n",
       "      <td>23.00000</td>\n",
       "      <td>12609.00000</td>\n",
       "      <td>70.00000</td>\n",
       "      <td>1.00000</td>\n",
       "      <td>1.00000</td>\n",
       "      <td>6987.00000</td>\n",
       "      <td>45.00000</td>\n",
       "      <td>67300.00000</td>\n",
       "      <td>0.00000</td>\n",
       "      <td>1.00000</td>\n",
       "      <td>0.00000</td>\n",
       "      <td>2.00000</td>\n",
       "      <td>23192.00000</td>\n",
       "      <td>54962.00000</td>\n",
       "      <td>12.10000</td>\n",
       "      <td>0.00000</td>\n",
       "      <td>0.00000</td>\n",
       "      <td>36.00000</td>\n",
       "      <td>87.00000</td>\n",
       "      <td>2.00000</td>\n",
       "      <td>2.00000</td>\n",
       "      <td>1.00000</td>\n",
       "      <td>2.00000</td>\n",
       "      <td>37.00000</td>\n",
       "      <td>0.00000</td>\n",
       "      <td>0.00000</td>\n",
       "      <td>0.00000</td>\n",
       "      <td>4.00000</td>\n",
       "      <td>5.00000</td>\n",
       "      <td>8.00000</td>\n",
       "      <td>10.00000</td>\n",
       "      <td>2.00000</td>\n",
       "      <td>10.00000</td>\n",
       "      <td>13.00000</td>\n",
       "      <td>5.00000</td>\n",
       "      <td>13.00000</td>\n",
       "      <td>0.00000</td>\n",
       "      <td>0.00000</td>\n",
       "      <td>0.00000</td>\n",
       "      <td>1.00000</td>\n",
       "      <td>100.00000</td>\n",
       "      <td>0.00000</td>\n",
       "      <td>0.00000</td>\n",
       "      <td>0.00000</td>\n",
       "      <td>381215.00000</td>\n",
       "      <td>52226.00000</td>\n",
       "      <td>62500.00000</td>\n",
       "      <td>18000.00000</td>\n",
       "    </tr>\n",
       "    <tr>\n",
       "      <th>4</th>\n",
       "      <td>10400.00000</td>\n",
       "      <td>10400.00000</td>\n",
       "      <td>10400.00000</td>\n",
       "      <td>22.45000</td>\n",
       "      <td>289.91000</td>\n",
       "      <td>104433.00000</td>\n",
       "      <td>25.37000</td>\n",
       "      <td>1.00000</td>\n",
       "      <td>695.00000</td>\n",
       "      <td>699.00000</td>\n",
       "      <td>3.00000</td>\n",
       "      <td>12.00000</td>\n",
       "      <td>72.31284</td>\n",
       "      <td>12.00000</td>\n",
       "      <td>0.00000</td>\n",
       "      <td>21929.00000</td>\n",
       "      <td>64.50000</td>\n",
       "      <td>35.00000</td>\n",
       "      <td>0.00000</td>\n",
       "      <td>0.00000</td>\n",
       "      <td>11740.50000</td>\n",
       "      <td>11740.50000</td>\n",
       "      <td>10400.00000</td>\n",
       "      <td>1340.50000</td>\n",
       "      <td>0.00000</td>\n",
       "      <td>0.00000</td>\n",
       "      <td>0.00000</td>\n",
       "      <td>10128.96000</td>\n",
       "      <td>704.00000</td>\n",
       "      <td>700.00000</td>\n",
       "      <td>0.00000</td>\n",
       "      <td>44.16422</td>\n",
       "      <td>0.00000</td>\n",
       "      <td>0.00000</td>\n",
       "      <td>331730.00000</td>\n",
       "      <td>1.00000</td>\n",
       "      <td>3.00000</td>\n",
       "      <td>0.00000</td>\n",
       "      <td>3.00000</td>\n",
       "      <td>14.00000</td>\n",
       "      <td>73839.00000</td>\n",
       "      <td>84.00000</td>\n",
       "      <td>4.00000</td>\n",
       "      <td>7.00000</td>\n",
       "      <td>9702.00000</td>\n",
       "      <td>78.00000</td>\n",
       "      <td>34000.00000</td>\n",
       "      <td>2.00000</td>\n",
       "      <td>1.00000</td>\n",
       "      <td>3.00000</td>\n",
       "      <td>10.00000</td>\n",
       "      <td>27644.00000</td>\n",
       "      <td>4567.00000</td>\n",
       "      <td>77.50000</td>\n",
       "      <td>0.00000</td>\n",
       "      <td>0.00000</td>\n",
       "      <td>128.00000</td>\n",
       "      <td>210.00000</td>\n",
       "      <td>4.00000</td>\n",
       "      <td>4.00000</td>\n",
       "      <td>6.00000</td>\n",
       "      <td>4.00000</td>\n",
       "      <td>12.00000</td>\n",
       "      <td>1.00000</td>\n",
       "      <td>12.00000</td>\n",
       "      <td>0.00000</td>\n",
       "      <td>4.00000</td>\n",
       "      <td>6.00000</td>\n",
       "      <td>5.00000</td>\n",
       "      <td>9.00000</td>\n",
       "      <td>10.00000</td>\n",
       "      <td>7.00000</td>\n",
       "      <td>19.00000</td>\n",
       "      <td>6.00000</td>\n",
       "      <td>12.00000</td>\n",
       "      <td>0.00000</td>\n",
       "      <td>0.00000</td>\n",
       "      <td>0.00000</td>\n",
       "      <td>4.00000</td>\n",
       "      <td>96.60000</td>\n",
       "      <td>60.00000</td>\n",
       "      <td>0.00000</td>\n",
       "      <td>0.00000</td>\n",
       "      <td>439570.00000</td>\n",
       "      <td>95768.00000</td>\n",
       "      <td>20300.00000</td>\n",
       "      <td>88097.00000</td>\n",
       "    </tr>\n",
       "    <tr>\n",
       "      <th>...</th>\n",
       "      <td>...</td>\n",
       "      <td>...</td>\n",
       "      <td>...</td>\n",
       "      <td>...</td>\n",
       "      <td>...</td>\n",
       "      <td>...</td>\n",
       "      <td>...</td>\n",
       "      <td>...</td>\n",
       "      <td>...</td>\n",
       "      <td>...</td>\n",
       "      <td>...</td>\n",
       "      <td>...</td>\n",
       "      <td>...</td>\n",
       "      <td>...</td>\n",
       "      <td>...</td>\n",
       "      <td>...</td>\n",
       "      <td>...</td>\n",
       "      <td>...</td>\n",
       "      <td>...</td>\n",
       "      <td>...</td>\n",
       "      <td>...</td>\n",
       "      <td>...</td>\n",
       "      <td>...</td>\n",
       "      <td>...</td>\n",
       "      <td>...</td>\n",
       "      <td>...</td>\n",
       "      <td>...</td>\n",
       "      <td>...</td>\n",
       "      <td>...</td>\n",
       "      <td>...</td>\n",
       "      <td>...</td>\n",
       "      <td>...</td>\n",
       "      <td>...</td>\n",
       "      <td>...</td>\n",
       "      <td>...</td>\n",
       "      <td>...</td>\n",
       "      <td>...</td>\n",
       "      <td>...</td>\n",
       "      <td>...</td>\n",
       "      <td>...</td>\n",
       "      <td>...</td>\n",
       "      <td>...</td>\n",
       "      <td>...</td>\n",
       "      <td>...</td>\n",
       "      <td>...</td>\n",
       "      <td>...</td>\n",
       "      <td>...</td>\n",
       "      <td>...</td>\n",
       "      <td>...</td>\n",
       "      <td>...</td>\n",
       "      <td>...</td>\n",
       "      <td>...</td>\n",
       "      <td>...</td>\n",
       "      <td>...</td>\n",
       "      <td>...</td>\n",
       "      <td>...</td>\n",
       "      <td>...</td>\n",
       "      <td>...</td>\n",
       "      <td>...</td>\n",
       "      <td>...</td>\n",
       "      <td>...</td>\n",
       "      <td>...</td>\n",
       "      <td>...</td>\n",
       "      <td>...</td>\n",
       "      <td>...</td>\n",
       "      <td>...</td>\n",
       "      <td>...</td>\n",
       "      <td>...</td>\n",
       "      <td>...</td>\n",
       "      <td>...</td>\n",
       "      <td>...</td>\n",
       "      <td>...</td>\n",
       "      <td>...</td>\n",
       "      <td>...</td>\n",
       "      <td>...</td>\n",
       "      <td>...</td>\n",
       "      <td>...</td>\n",
       "      <td>...</td>\n",
       "      <td>...</td>\n",
       "      <td>...</td>\n",
       "      <td>...</td>\n",
       "      <td>...</td>\n",
       "      <td>...</td>\n",
       "      <td>...</td>\n",
       "      <td>...</td>\n",
       "      <td>...</td>\n",
       "      <td>...</td>\n",
       "    </tr>\n",
       "    <tr>\n",
       "      <th>2260694</th>\n",
       "      <td>24000.00000</td>\n",
       "      <td>24000.00000</td>\n",
       "      <td>24000.00000</td>\n",
       "      <td>12.79000</td>\n",
       "      <td>543.50000</td>\n",
       "      <td>95000.00000</td>\n",
       "      <td>19.61000</td>\n",
       "      <td>0.00000</td>\n",
       "      <td>665.00000</td>\n",
       "      <td>669.00000</td>\n",
       "      <td>0.00000</td>\n",
       "      <td>34.54092</td>\n",
       "      <td>72.31284</td>\n",
       "      <td>5.00000</td>\n",
       "      <td>0.00000</td>\n",
       "      <td>49431.00000</td>\n",
       "      <td>84.40000</td>\n",
       "      <td>54.00000</td>\n",
       "      <td>14287.39000</td>\n",
       "      <td>14287.39000</td>\n",
       "      <td>15760.50000</td>\n",
       "      <td>15760.50000</td>\n",
       "      <td>9712.61000</td>\n",
       "      <td>6047.89000</td>\n",
       "      <td>0.00000</td>\n",
       "      <td>0.00000</td>\n",
       "      <td>0.00000</td>\n",
       "      <td>543.50000</td>\n",
       "      <td>709.00000</td>\n",
       "      <td>705.00000</td>\n",
       "      <td>0.00000</td>\n",
       "      <td>44.16422</td>\n",
       "      <td>0.00000</td>\n",
       "      <td>0.00000</td>\n",
       "      <td>104422.00000</td>\n",
       "      <td>2.00000</td>\n",
       "      <td>2.00000</td>\n",
       "      <td>1.00000</td>\n",
       "      <td>3.00000</td>\n",
       "      <td>3.00000</td>\n",
       "      <td>54991.00000</td>\n",
       "      <td>106.00000</td>\n",
       "      <td>2.00000</td>\n",
       "      <td>2.00000</td>\n",
       "      <td>0.00000</td>\n",
       "      <td>103.00000</td>\n",
       "      <td>50500.00000</td>\n",
       "      <td>1.00000</td>\n",
       "      <td>19.00000</td>\n",
       "      <td>1.00000</td>\n",
       "      <td>5.00000</td>\n",
       "      <td>26106.00000</td>\n",
       "      <td>0.00000</td>\n",
       "      <td>0.00000</td>\n",
       "      <td>0.00000</td>\n",
       "      <td>0.00000</td>\n",
       "      <td>201.00000</td>\n",
       "      <td>88.00000</td>\n",
       "      <td>3.00000</td>\n",
       "      <td>3.00000</td>\n",
       "      <td>0.00000</td>\n",
       "      <td>14.00000</td>\n",
       "      <td>37.00000</td>\n",
       "      <td>4.00000</td>\n",
       "      <td>0.00000</td>\n",
       "      <td>0.00000</td>\n",
       "      <td>0.00000</td>\n",
       "      <td>2.00000</td>\n",
       "      <td>0.00000</td>\n",
       "      <td>3.00000</td>\n",
       "      <td>43.00000</td>\n",
       "      <td>3.00000</td>\n",
       "      <td>11.00000</td>\n",
       "      <td>2.00000</td>\n",
       "      <td>5.00000</td>\n",
       "      <td>0.00000</td>\n",
       "      <td>0.00000</td>\n",
       "      <td>0.00000</td>\n",
       "      <td>3.00000</td>\n",
       "      <td>100.00000</td>\n",
       "      <td>0.00000</td>\n",
       "      <td>0.00000</td>\n",
       "      <td>0.00000</td>\n",
       "      <td>102517.00000</td>\n",
       "      <td>104422.00000</td>\n",
       "      <td>0.00000</td>\n",
       "      <td>52017.00000</td>\n",
       "    </tr>\n",
       "    <tr>\n",
       "      <th>2260695</th>\n",
       "      <td>24000.00000</td>\n",
       "      <td>24000.00000</td>\n",
       "      <td>24000.00000</td>\n",
       "      <td>10.49000</td>\n",
       "      <td>515.74000</td>\n",
       "      <td>108000.00000</td>\n",
       "      <td>34.94000</td>\n",
       "      <td>0.00000</td>\n",
       "      <td>695.00000</td>\n",
       "      <td>699.00000</td>\n",
       "      <td>1.00000</td>\n",
       "      <td>60.00000</td>\n",
       "      <td>69.00000</td>\n",
       "      <td>24.00000</td>\n",
       "      <td>1.00000</td>\n",
       "      <td>21665.00000</td>\n",
       "      <td>39.00000</td>\n",
       "      <td>58.00000</td>\n",
       "      <td>13951.42000</td>\n",
       "      <td>13951.42000</td>\n",
       "      <td>15008.53000</td>\n",
       "      <td>15008.53000</td>\n",
       "      <td>10048.58000</td>\n",
       "      <td>4959.95000</td>\n",
       "      <td>0.00000</td>\n",
       "      <td>0.00000</td>\n",
       "      <td>0.00000</td>\n",
       "      <td>515.74000</td>\n",
       "      <td>734.00000</td>\n",
       "      <td>730.00000</td>\n",
       "      <td>0.00000</td>\n",
       "      <td>60.00000</td>\n",
       "      <td>0.00000</td>\n",
       "      <td>0.00000</td>\n",
       "      <td>140118.00000</td>\n",
       "      <td>0.00000</td>\n",
       "      <td>4.00000</td>\n",
       "      <td>0.00000</td>\n",
       "      <td>5.00000</td>\n",
       "      <td>16.00000</td>\n",
       "      <td>118453.00000</td>\n",
       "      <td>77.00000</td>\n",
       "      <td>0.00000</td>\n",
       "      <td>2.00000</td>\n",
       "      <td>4090.00000</td>\n",
       "      <td>59.00000</td>\n",
       "      <td>55600.00000</td>\n",
       "      <td>1.00000</td>\n",
       "      <td>12.00000</td>\n",
       "      <td>4.00000</td>\n",
       "      <td>7.00000</td>\n",
       "      <td>6369.00000</td>\n",
       "      <td>15307.00000</td>\n",
       "      <td>45.10000</td>\n",
       "      <td>0.00000</td>\n",
       "      <td>0.00000</td>\n",
       "      <td>166.00000</td>\n",
       "      <td>307.00000</td>\n",
       "      <td>15.00000</td>\n",
       "      <td>15.00000</td>\n",
       "      <td>4.00000</td>\n",
       "      <td>15.00000</td>\n",
       "      <td>60.00000</td>\n",
       "      <td>4.00000</td>\n",
       "      <td>60.00000</td>\n",
       "      <td>12.00000</td>\n",
       "      <td>5.00000</td>\n",
       "      <td>12.00000</td>\n",
       "      <td>7.00000</td>\n",
       "      <td>18.00000</td>\n",
       "      <td>17.00000</td>\n",
       "      <td>19.00000</td>\n",
       "      <td>37.00000</td>\n",
       "      <td>12.00000</td>\n",
       "      <td>24.00000</td>\n",
       "      <td>0.00000</td>\n",
       "      <td>0.00000</td>\n",
       "      <td>0.00000</td>\n",
       "      <td>0.00000</td>\n",
       "      <td>75.90000</td>\n",
       "      <td>42.90000</td>\n",
       "      <td>0.00000</td>\n",
       "      <td>1.00000</td>\n",
       "      <td>227883.00000</td>\n",
       "      <td>140118.00000</td>\n",
       "      <td>27900.00000</td>\n",
       "      <td>172283.00000</td>\n",
       "    </tr>\n",
       "    <tr>\n",
       "      <th>2260696</th>\n",
       "      <td>40000.00000</td>\n",
       "      <td>40000.00000</td>\n",
       "      <td>40000.00000</td>\n",
       "      <td>10.49000</td>\n",
       "      <td>859.56000</td>\n",
       "      <td>227000.00000</td>\n",
       "      <td>12.75000</td>\n",
       "      <td>7.00000</td>\n",
       "      <td>705.00000</td>\n",
       "      <td>709.00000</td>\n",
       "      <td>1.00000</td>\n",
       "      <td>9.00000</td>\n",
       "      <td>72.31284</td>\n",
       "      <td>5.00000</td>\n",
       "      <td>0.00000</td>\n",
       "      <td>8633.00000</td>\n",
       "      <td>64.90000</td>\n",
       "      <td>37.00000</td>\n",
       "      <td>23252.59000</td>\n",
       "      <td>23252.59000</td>\n",
       "      <td>24903.93000</td>\n",
       "      <td>24903.93000</td>\n",
       "      <td>16747.41000</td>\n",
       "      <td>8156.52000</td>\n",
       "      <td>0.00000</td>\n",
       "      <td>0.00000</td>\n",
       "      <td>0.00000</td>\n",
       "      <td>859.56000</td>\n",
       "      <td>724.00000</td>\n",
       "      <td>720.00000</td>\n",
       "      <td>0.00000</td>\n",
       "      <td>10.00000</td>\n",
       "      <td>0.00000</td>\n",
       "      <td>0.00000</td>\n",
       "      <td>28398.00000</td>\n",
       "      <td>0.00000</td>\n",
       "      <td>2.00000</td>\n",
       "      <td>0.00000</td>\n",
       "      <td>1.00000</td>\n",
       "      <td>15.00000</td>\n",
       "      <td>19765.00000</td>\n",
       "      <td>46.00000</td>\n",
       "      <td>0.00000</td>\n",
       "      <td>0.00000</td>\n",
       "      <td>5141.00000</td>\n",
       "      <td>51.00000</td>\n",
       "      <td>13300.00000</td>\n",
       "      <td>3.00000</td>\n",
       "      <td>0.00000</td>\n",
       "      <td>2.00000</td>\n",
       "      <td>2.00000</td>\n",
       "      <td>5680.00000</td>\n",
       "      <td>4070.00000</td>\n",
       "      <td>66.90000</td>\n",
       "      <td>0.00000</td>\n",
       "      <td>0.00000</td>\n",
       "      <td>154.00000</td>\n",
       "      <td>258.00000</td>\n",
       "      <td>33.00000</td>\n",
       "      <td>15.00000</td>\n",
       "      <td>3.00000</td>\n",
       "      <td>41.00000</td>\n",
       "      <td>9.00000</td>\n",
       "      <td>1.00000</td>\n",
       "      <td>9.00000</td>\n",
       "      <td>6.00000</td>\n",
       "      <td>2.00000</td>\n",
       "      <td>3.00000</td>\n",
       "      <td>2.00000</td>\n",
       "      <td>15.00000</td>\n",
       "      <td>9.00000</td>\n",
       "      <td>3.00000</td>\n",
       "      <td>23.00000</td>\n",
       "      <td>3.00000</td>\n",
       "      <td>5.00000</td>\n",
       "      <td>0.00000</td>\n",
       "      <td>0.00000</td>\n",
       "      <td>7.00000</td>\n",
       "      <td>0.00000</td>\n",
       "      <td>75.70000</td>\n",
       "      <td>50.00000</td>\n",
       "      <td>0.00000</td>\n",
       "      <td>0.00000</td>\n",
       "      <td>55970.00000</td>\n",
       "      <td>28398.00000</td>\n",
       "      <td>12300.00000</td>\n",
       "      <td>42670.00000</td>\n",
       "    </tr>\n",
       "    <tr>\n",
       "      <th>2260697</th>\n",
       "      <td>24000.00000</td>\n",
       "      <td>24000.00000</td>\n",
       "      <td>24000.00000</td>\n",
       "      <td>14.49000</td>\n",
       "      <td>564.56000</td>\n",
       "      <td>110000.00000</td>\n",
       "      <td>18.30000</td>\n",
       "      <td>0.00000</td>\n",
       "      <td>660.00000</td>\n",
       "      <td>664.00000</td>\n",
       "      <td>0.00000</td>\n",
       "      <td>67.00000</td>\n",
       "      <td>72.00000</td>\n",
       "      <td>10.00000</td>\n",
       "      <td>1.00000</td>\n",
       "      <td>17641.00000</td>\n",
       "      <td>68.10000</td>\n",
       "      <td>31.00000</td>\n",
       "      <td>0.00000</td>\n",
       "      <td>0.00000</td>\n",
       "      <td>6755.40000</td>\n",
       "      <td>6755.40000</td>\n",
       "      <td>3521.91000</td>\n",
       "      <td>3233.49000</td>\n",
       "      <td>0.00000</td>\n",
       "      <td>0.00000</td>\n",
       "      <td>0.00000</td>\n",
       "      <td>564.56000</td>\n",
       "      <td>594.00000</td>\n",
       "      <td>590.00000</td>\n",
       "      <td>0.00000</td>\n",
       "      <td>67.00000</td>\n",
       "      <td>0.00000</td>\n",
       "      <td>0.00000</td>\n",
       "      <td>62426.00000</td>\n",
       "      <td>0.00000</td>\n",
       "      <td>2.00000</td>\n",
       "      <td>0.00000</td>\n",
       "      <td>2.00000</td>\n",
       "      <td>20.00000</td>\n",
       "      <td>44785.00000</td>\n",
       "      <td>78.00000</td>\n",
       "      <td>1.00000</td>\n",
       "      <td>5.00000</td>\n",
       "      <td>6172.00000</td>\n",
       "      <td>73.00000</td>\n",
       "      <td>25900.00000</td>\n",
       "      <td>0.00000</td>\n",
       "      <td>0.00000</td>\n",
       "      <td>1.00000</td>\n",
       "      <td>7.00000</td>\n",
       "      <td>6243.00000</td>\n",
       "      <td>4660.00000</td>\n",
       "      <td>77.50000</td>\n",
       "      <td>0.00000</td>\n",
       "      <td>0.00000</td>\n",
       "      <td>132.00000</td>\n",
       "      <td>206.00000</td>\n",
       "      <td>9.00000</td>\n",
       "      <td>9.00000</td>\n",
       "      <td>2.00000</td>\n",
       "      <td>9.00000</td>\n",
       "      <td>37.00000</td>\n",
       "      <td>9.00000</td>\n",
       "      <td>0.00000</td>\n",
       "      <td>1.00000</td>\n",
       "      <td>5.00000</td>\n",
       "      <td>7.00000</td>\n",
       "      <td>5.00000</td>\n",
       "      <td>15.00000</td>\n",
       "      <td>4.00000</td>\n",
       "      <td>8.00000</td>\n",
       "      <td>24.00000</td>\n",
       "      <td>7.00000</td>\n",
       "      <td>10.00000</td>\n",
       "      <td>0.00000</td>\n",
       "      <td>0.00000</td>\n",
       "      <td>0.00000</td>\n",
       "      <td>1.00000</td>\n",
       "      <td>96.20000</td>\n",
       "      <td>40.00000</td>\n",
       "      <td>1.00000</td>\n",
       "      <td>0.00000</td>\n",
       "      <td>84664.00000</td>\n",
       "      <td>62426.00000</td>\n",
       "      <td>20700.00000</td>\n",
       "      <td>58764.00000</td>\n",
       "    </tr>\n",
       "    <tr>\n",
       "      <th>2260698</th>\n",
       "      <td>14000.00000</td>\n",
       "      <td>14000.00000</td>\n",
       "      <td>14000.00000</td>\n",
       "      <td>14.49000</td>\n",
       "      <td>329.33000</td>\n",
       "      <td>95000.00000</td>\n",
       "      <td>23.36000</td>\n",
       "      <td>0.00000</td>\n",
       "      <td>660.00000</td>\n",
       "      <td>664.00000</td>\n",
       "      <td>1.00000</td>\n",
       "      <td>37.00000</td>\n",
       "      <td>72.31284</td>\n",
       "      <td>8.00000</td>\n",
       "      <td>0.00000</td>\n",
       "      <td>7662.00000</td>\n",
       "      <td>54.00000</td>\n",
       "      <td>22.00000</td>\n",
       "      <td>8456.12000</td>\n",
       "      <td>8456.12000</td>\n",
       "      <td>9621.25000</td>\n",
       "      <td>9621.25000</td>\n",
       "      <td>5543.88000</td>\n",
       "      <td>4027.96000</td>\n",
       "      <td>49.41000</td>\n",
       "      <td>0.00000</td>\n",
       "      <td>0.00000</td>\n",
       "      <td>329.33000</td>\n",
       "      <td>669.00000</td>\n",
       "      <td>665.00000</td>\n",
       "      <td>0.00000</td>\n",
       "      <td>37.00000</td>\n",
       "      <td>0.00000</td>\n",
       "      <td>0.00000</td>\n",
       "      <td>143066.00000</td>\n",
       "      <td>0.00000</td>\n",
       "      <td>1.00000</td>\n",
       "      <td>1.00000</td>\n",
       "      <td>2.00000</td>\n",
       "      <td>7.00000</td>\n",
       "      <td>32071.00000</td>\n",
       "      <td>94.00000</td>\n",
       "      <td>0.00000</td>\n",
       "      <td>1.00000</td>\n",
       "      <td>4093.00000</td>\n",
       "      <td>84.00000</td>\n",
       "      <td>14200.00000</td>\n",
       "      <td>3.00000</td>\n",
       "      <td>1.00000</td>\n",
       "      <td>2.00000</td>\n",
       "      <td>3.00000</td>\n",
       "      <td>17883.00000</td>\n",
       "      <td>1838.00000</td>\n",
       "      <td>80.70000</td>\n",
       "      <td>0.00000</td>\n",
       "      <td>0.00000</td>\n",
       "      <td>149.00000</td>\n",
       "      <td>243.00000</td>\n",
       "      <td>22.00000</td>\n",
       "      <td>7.00000</td>\n",
       "      <td>1.00000</td>\n",
       "      <td>75.00000</td>\n",
       "      <td>39.00000</td>\n",
       "      <td>6.00000</td>\n",
       "      <td>37.00000</td>\n",
       "      <td>4.00000</td>\n",
       "      <td>3.00000</td>\n",
       "      <td>3.00000</td>\n",
       "      <td>4.00000</td>\n",
       "      <td>12.00000</td>\n",
       "      <td>3.00000</td>\n",
       "      <td>5.00000</td>\n",
       "      <td>17.00000</td>\n",
       "      <td>3.00000</td>\n",
       "      <td>8.00000</td>\n",
       "      <td>0.00000</td>\n",
       "      <td>0.00000</td>\n",
       "      <td>0.00000</td>\n",
       "      <td>1.00000</td>\n",
       "      <td>81.80000</td>\n",
       "      <td>50.00000</td>\n",
       "      <td>0.00000</td>\n",
       "      <td>0.00000</td>\n",
       "      <td>163804.00000</td>\n",
       "      <td>44215.00000</td>\n",
       "      <td>9500.00000</td>\n",
       "      <td>34169.00000</td>\n",
       "    </tr>\n",
       "  </tbody>\n",
       "</table>\n",
       "<p>2260668 rows × 87 columns</p>\n",
       "</div>"
      ],
      "text/plain": [
       "          loan_amnt  funded_amnt  funded_amnt_inv  int_rate  installment  \\\n",
       "0        3600.00000   3600.00000       3600.00000  13.99000    123.03000   \n",
       "1       24700.00000  24700.00000      24700.00000  11.99000    820.28000   \n",
       "2       20000.00000  20000.00000      20000.00000  10.78000    432.66000   \n",
       "3       35000.00000  35000.00000      35000.00000  14.85000    829.90000   \n",
       "4       10400.00000  10400.00000      10400.00000  22.45000    289.91000   \n",
       "...             ...          ...              ...       ...          ...   \n",
       "2260694 24000.00000  24000.00000      24000.00000  12.79000    543.50000   \n",
       "2260695 24000.00000  24000.00000      24000.00000  10.49000    515.74000   \n",
       "2260696 40000.00000  40000.00000      40000.00000  10.49000    859.56000   \n",
       "2260697 24000.00000  24000.00000      24000.00000  14.49000    564.56000   \n",
       "2260698 14000.00000  14000.00000      14000.00000  14.49000    329.33000   \n",
       "\n",
       "          annual_inc      dti  delinq_2yrs  fico_range_low  fico_range_high  \\\n",
       "0        55000.00000  5.91000      0.00000       675.00000        679.00000   \n",
       "1        65000.00000 16.06000      1.00000       715.00000        719.00000   \n",
       "2        63000.00000 10.78000      0.00000       695.00000        699.00000   \n",
       "3       110000.00000 17.06000      0.00000       785.00000        789.00000   \n",
       "4       104433.00000 25.37000      1.00000       695.00000        699.00000   \n",
       "...              ...      ...          ...             ...              ...   \n",
       "2260694  95000.00000 19.61000      0.00000       665.00000        669.00000   \n",
       "2260695 108000.00000 34.94000      0.00000       695.00000        699.00000   \n",
       "2260696 227000.00000 12.75000      7.00000       705.00000        709.00000   \n",
       "2260697 110000.00000 18.30000      0.00000       660.00000        664.00000   \n",
       "2260698  95000.00000 23.36000      0.00000       660.00000        664.00000   \n",
       "\n",
       "         inq_last_6mths  mths_since_last_delinq  mths_since_last_record  \\\n",
       "0               1.00000                30.00000                72.31284   \n",
       "1               4.00000                 6.00000                72.31284   \n",
       "2               0.00000                34.54092                72.31284   \n",
       "3               0.00000                34.54092                72.31284   \n",
       "4               3.00000                12.00000                72.31284   \n",
       "...                 ...                     ...                     ...   \n",
       "2260694         0.00000                34.54092                72.31284   \n",
       "2260695         1.00000                60.00000                69.00000   \n",
       "2260696         1.00000                 9.00000                72.31284   \n",
       "2260697         0.00000                67.00000                72.00000   \n",
       "2260698         1.00000                37.00000                72.31284   \n",
       "\n",
       "         open_acc  pub_rec   revol_bal  revol_util  total_acc   out_prncp  \\\n",
       "0         7.00000  0.00000  2765.00000    29.70000   13.00000     0.00000   \n",
       "1        22.00000  0.00000 21470.00000    19.20000   38.00000     0.00000   \n",
       "2         6.00000  0.00000  7869.00000    56.20000   18.00000     0.00000   \n",
       "3        13.00000  0.00000  7802.00000    11.60000   17.00000 15897.65000   \n",
       "4        12.00000  0.00000 21929.00000    64.50000   35.00000     0.00000   \n",
       "...           ...      ...         ...         ...        ...         ...   \n",
       "2260694   5.00000  0.00000 49431.00000    84.40000   54.00000 14287.39000   \n",
       "2260695  24.00000  1.00000 21665.00000    39.00000   58.00000 13951.42000   \n",
       "2260696   5.00000  0.00000  8633.00000    64.90000   37.00000 23252.59000   \n",
       "2260697  10.00000  1.00000 17641.00000    68.10000   31.00000     0.00000   \n",
       "2260698   8.00000  0.00000  7662.00000    54.00000   22.00000  8456.12000   \n",
       "\n",
       "         out_prncp_inv  total_pymnt  total_pymnt_inv  total_rec_prncp  \\\n",
       "0              0.00000   4421.72392       4421.72000       3600.00000   \n",
       "1              0.00000  25679.66000      25679.66000      24700.00000   \n",
       "2              0.00000  22705.92429      22705.92000      20000.00000   \n",
       "3          15897.65000  31464.01000      31464.01000      19102.35000   \n",
       "4              0.00000  11740.50000      11740.50000      10400.00000   \n",
       "...                ...          ...              ...              ...   \n",
       "2260694    14287.39000  15760.50000      15760.50000       9712.61000   \n",
       "2260695    13951.42000  15008.53000      15008.53000      10048.58000   \n",
       "2260696    23252.59000  24903.93000      24903.93000      16747.41000   \n",
       "2260697        0.00000   6755.40000       6755.40000       3521.91000   \n",
       "2260698     8456.12000   9621.25000       9621.25000       5543.88000   \n",
       "\n",
       "         total_rec_int  total_rec_late_fee  recoveries  \\\n",
       "0            821.72000             0.00000     0.00000   \n",
       "1            979.66000             0.00000     0.00000   \n",
       "2           2705.92000             0.00000     0.00000   \n",
       "3          12361.66000             0.00000     0.00000   \n",
       "4           1340.50000             0.00000     0.00000   \n",
       "...                ...                 ...         ...   \n",
       "2260694     6047.89000             0.00000     0.00000   \n",
       "2260695     4959.95000             0.00000     0.00000   \n",
       "2260696     8156.52000             0.00000     0.00000   \n",
       "2260697     3233.49000             0.00000     0.00000   \n",
       "2260698     4027.96000            49.41000     0.00000   \n",
       "\n",
       "         collection_recovery_fee  last_pymnt_amnt  last_fico_range_high  \\\n",
       "0                        0.00000        122.67000             564.00000   \n",
       "1                        0.00000        926.35000             699.00000   \n",
       "2                        0.00000      15813.30000             704.00000   \n",
       "3                        0.00000        829.90000             679.00000   \n",
       "4                        0.00000      10128.96000             704.00000   \n",
       "...                          ...              ...                   ...   \n",
       "2260694                  0.00000        543.50000             709.00000   \n",
       "2260695                  0.00000        515.74000             734.00000   \n",
       "2260696                  0.00000        859.56000             724.00000   \n",
       "2260697                  0.00000        564.56000             594.00000   \n",
       "2260698                  0.00000        329.33000             669.00000   \n",
       "\n",
       "         last_fico_range_low  collections_12_mths_ex_med  \\\n",
       "0                  560.00000                     0.00000   \n",
       "1                  695.00000                     0.00000   \n",
       "2                  700.00000                     0.00000   \n",
       "3                  675.00000                     0.00000   \n",
       "4                  700.00000                     0.00000   \n",
       "...                      ...                         ...   \n",
       "2260694            705.00000                     0.00000   \n",
       "2260695            730.00000                     0.00000   \n",
       "2260696            720.00000                     0.00000   \n",
       "2260697            590.00000                     0.00000   \n",
       "2260698            665.00000                     0.00000   \n",
       "\n",
       "         mths_since_last_major_derog  acc_now_delinq  tot_coll_amt  \\\n",
       "0                           30.00000         0.00000     722.00000   \n",
       "1                           44.16422         0.00000       0.00000   \n",
       "2                           44.16422         0.00000       0.00000   \n",
       "3                           44.16422         0.00000       0.00000   \n",
       "4                           44.16422         0.00000       0.00000   \n",
       "...                              ...             ...           ...   \n",
       "2260694                     44.16422         0.00000       0.00000   \n",
       "2260695                     60.00000         0.00000       0.00000   \n",
       "2260696                     10.00000         0.00000       0.00000   \n",
       "2260697                     67.00000         0.00000       0.00000   \n",
       "2260698                     37.00000         0.00000       0.00000   \n",
       "\n",
       "         tot_cur_bal  open_acc_6m  open_act_il  open_il_12m  open_il_24m  \\\n",
       "0       144904.00000      2.00000      2.00000      0.00000      1.00000   \n",
       "1       204396.00000      1.00000      1.00000      0.00000      1.00000   \n",
       "2       189699.00000      0.00000      1.00000      0.00000      4.00000   \n",
       "3       301500.00000      1.00000      1.00000      0.00000      1.00000   \n",
       "4       331730.00000      1.00000      3.00000      0.00000      3.00000   \n",
       "...              ...          ...          ...          ...          ...   \n",
       "2260694 104422.00000      2.00000      2.00000      1.00000      3.00000   \n",
       "2260695 140118.00000      0.00000      4.00000      0.00000      5.00000   \n",
       "2260696  28398.00000      0.00000      2.00000      0.00000      1.00000   \n",
       "2260697  62426.00000      0.00000      2.00000      0.00000      2.00000   \n",
       "2260698 143066.00000      0.00000      1.00000      1.00000      2.00000   \n",
       "\n",
       "         mths_since_rcnt_il  total_bal_il   il_util  open_rv_12m  open_rv_24m  \\\n",
       "0                  21.00000    4981.00000  36.00000      3.00000      3.00000   \n",
       "1                  19.00000   18005.00000  73.00000      2.00000      3.00000   \n",
       "2                  19.00000   10827.00000  73.00000      0.00000      2.00000   \n",
       "3                  23.00000   12609.00000  70.00000      1.00000      1.00000   \n",
       "4                  14.00000   73839.00000  84.00000      4.00000      7.00000   \n",
       "...                     ...           ...       ...          ...          ...   \n",
       "2260694             3.00000   54991.00000 106.00000      2.00000      2.00000   \n",
       "2260695            16.00000  118453.00000  77.00000      0.00000      2.00000   \n",
       "2260696            15.00000   19765.00000  46.00000      0.00000      0.00000   \n",
       "2260697            20.00000   44785.00000  78.00000      1.00000      5.00000   \n",
       "2260698             7.00000   32071.00000  94.00000      0.00000      1.00000   \n",
       "\n",
       "         max_bal_bc  all_util  total_rev_hi_lim  inq_fi  total_cu_tl  \\\n",
       "0         722.00000  34.00000        9300.00000 3.00000      1.00000   \n",
       "1        6472.00000  29.00000      111800.00000 0.00000      0.00000   \n",
       "2        2081.00000  65.00000       14000.00000 2.00000      5.00000   \n",
       "3        6987.00000  45.00000       67300.00000 0.00000      1.00000   \n",
       "4        9702.00000  78.00000       34000.00000 2.00000      1.00000   \n",
       "...             ...       ...               ...     ...          ...   \n",
       "2260694     0.00000 103.00000       50500.00000 1.00000     19.00000   \n",
       "2260695  4090.00000  59.00000       55600.00000 1.00000     12.00000   \n",
       "2260696  5141.00000  51.00000       13300.00000 3.00000      0.00000   \n",
       "2260697  6172.00000  73.00000       25900.00000 0.00000      0.00000   \n",
       "2260698  4093.00000  84.00000       14200.00000 3.00000      1.00000   \n",
       "\n",
       "         inq_last_12m  acc_open_past_24mths  avg_cur_bal  bc_open_to_buy  \\\n",
       "0             4.00000               4.00000  20701.00000      1506.00000   \n",
       "1             6.00000               4.00000   9733.00000     57830.00000   \n",
       "2             1.00000               6.00000  31617.00000      2737.00000   \n",
       "3             0.00000               2.00000  23192.00000     54962.00000   \n",
       "4             3.00000              10.00000  27644.00000      4567.00000   \n",
       "...               ...                   ...          ...             ...   \n",
       "2260694       1.00000               5.00000  26106.00000         0.00000   \n",
       "2260695       4.00000               7.00000   6369.00000     15307.00000   \n",
       "2260696       2.00000               2.00000   5680.00000      4070.00000   \n",
       "2260697       1.00000               7.00000   6243.00000      4660.00000   \n",
       "2260698       2.00000               3.00000  17883.00000      1838.00000   \n",
       "\n",
       "         bc_util  chargeoff_within_12_mths  delinq_amnt  mo_sin_old_il_acct  \\\n",
       "0       37.20000                   0.00000      0.00000           148.00000   \n",
       "1       27.10000                   0.00000      0.00000           113.00000   \n",
       "2       55.90000                   0.00000      0.00000           125.00000   \n",
       "3       12.10000                   0.00000      0.00000            36.00000   \n",
       "4       77.50000                   0.00000      0.00000           128.00000   \n",
       "...          ...                       ...          ...                 ...   \n",
       "2260694  0.00000                   0.00000      0.00000           201.00000   \n",
       "2260695 45.10000                   0.00000      0.00000           166.00000   \n",
       "2260696 66.90000                   0.00000      0.00000           154.00000   \n",
       "2260697 77.50000                   0.00000      0.00000           132.00000   \n",
       "2260698 80.70000                   0.00000      0.00000           149.00000   \n",
       "\n",
       "         mo_sin_old_rev_tl_op  mo_sin_rcnt_rev_tl_op  mo_sin_rcnt_tl  \\\n",
       "0                   128.00000                3.00000         3.00000   \n",
       "1                   192.00000                2.00000         2.00000   \n",
       "2                   184.00000               14.00000        14.00000   \n",
       "3                    87.00000                2.00000         2.00000   \n",
       "4                   210.00000                4.00000         4.00000   \n",
       "...                       ...                    ...             ...   \n",
       "2260694              88.00000                3.00000         3.00000   \n",
       "2260695             307.00000               15.00000        15.00000   \n",
       "2260696             258.00000               33.00000        15.00000   \n",
       "2260697             206.00000                9.00000         9.00000   \n",
       "2260698             243.00000               22.00000         7.00000   \n",
       "\n",
       "         mort_acc  mths_since_recent_bc  mths_since_recent_bc_dlq  \\\n",
       "0         1.00000               4.00000                  69.00000   \n",
       "1         4.00000               2.00000                  37.00000   \n",
       "2         5.00000             101.00000                  37.00000   \n",
       "3         1.00000               2.00000                  37.00000   \n",
       "4         6.00000               4.00000                  12.00000   \n",
       "...           ...                   ...                       ...   \n",
       "2260694   0.00000              14.00000                  37.00000   \n",
       "2260695   4.00000              15.00000                  60.00000   \n",
       "2260696   3.00000              41.00000                   9.00000   \n",
       "2260697   2.00000               9.00000                  37.00000   \n",
       "2260698   1.00000              75.00000                  39.00000   \n",
       "\n",
       "         mths_since_recent_inq  mths_since_recent_revol_delinq  \\\n",
       "0                      4.00000                        69.00000   \n",
       "1                      0.00000                         6.00000   \n",
       "2                     10.00000                         0.00000   \n",
       "3                      0.00000                         0.00000   \n",
       "4                      1.00000                        12.00000   \n",
       "...                        ...                             ...   \n",
       "2260694                4.00000                         0.00000   \n",
       "2260695                4.00000                        60.00000   \n",
       "2260696                1.00000                         9.00000   \n",
       "2260697                9.00000                         0.00000   \n",
       "2260698                6.00000                        37.00000   \n",
       "\n",
       "         num_accts_ever_120_pd  num_actv_bc_tl  num_actv_rev_tl  num_bc_sats  \\\n",
       "0                      2.00000         2.00000          4.00000      2.00000   \n",
       "1                      0.00000         5.00000          5.00000     13.00000   \n",
       "2                      0.00000         2.00000          3.00000      2.00000   \n",
       "3                      0.00000         4.00000          5.00000      8.00000   \n",
       "4                      0.00000         4.00000          6.00000      5.00000   \n",
       "...                        ...             ...              ...          ...   \n",
       "2260694                0.00000         0.00000          2.00000      0.00000   \n",
       "2260695               12.00000         5.00000         12.00000      7.00000   \n",
       "2260696                6.00000         2.00000          3.00000      2.00000   \n",
       "2260697                1.00000         5.00000          7.00000      5.00000   \n",
       "2260698                4.00000         3.00000          3.00000      4.00000   \n",
       "\n",
       "         num_bc_tl  num_il_tl  num_op_rev_tl  num_rev_accts  \\\n",
       "0          5.00000    3.00000        4.00000        9.00000   \n",
       "1         17.00000    6.00000       20.00000       27.00000   \n",
       "2          4.00000    6.00000        4.00000        7.00000   \n",
       "3         10.00000    2.00000       10.00000       13.00000   \n",
       "4          9.00000   10.00000        7.00000       19.00000   \n",
       "...            ...        ...            ...            ...   \n",
       "2260694    3.00000   43.00000        3.00000       11.00000   \n",
       "2260695   18.00000   17.00000       19.00000       37.00000   \n",
       "2260696   15.00000    9.00000        3.00000       23.00000   \n",
       "2260697   15.00000    4.00000        8.00000       24.00000   \n",
       "2260698   12.00000    3.00000        5.00000       17.00000   \n",
       "\n",
       "         num_rev_tl_bal_gt_0  num_sats  num_tl_120dpd_2m  num_tl_30dpd  \\\n",
       "0                    4.00000   7.00000           0.00000       0.00000   \n",
       "1                    5.00000  22.00000           0.00000       0.00000   \n",
       "2                    3.00000   6.00000           0.00000       0.00000   \n",
       "3                    5.00000  13.00000           0.00000       0.00000   \n",
       "4                    6.00000  12.00000           0.00000       0.00000   \n",
       "...                      ...       ...               ...           ...   \n",
       "2260694              2.00000   5.00000           0.00000       0.00000   \n",
       "2260695             12.00000  24.00000           0.00000       0.00000   \n",
       "2260696              3.00000   5.00000           0.00000       0.00000   \n",
       "2260697              7.00000  10.00000           0.00000       0.00000   \n",
       "2260698              3.00000   8.00000           0.00000       0.00000   \n",
       "\n",
       "         num_tl_90g_dpd_24m  num_tl_op_past_12m  pct_tl_nvr_dlq  \\\n",
       "0                   0.00000             3.00000        76.90000   \n",
       "1                   0.00000             2.00000        97.40000   \n",
       "2                   0.00000             0.00000       100.00000   \n",
       "3                   0.00000             1.00000       100.00000   \n",
       "4                   0.00000             4.00000        96.60000   \n",
       "...                     ...                 ...             ...   \n",
       "2260694             0.00000             3.00000       100.00000   \n",
       "2260695             0.00000             0.00000        75.90000   \n",
       "2260696             7.00000             0.00000        75.70000   \n",
       "2260697             0.00000             1.00000        96.20000   \n",
       "2260698             0.00000             1.00000        81.80000   \n",
       "\n",
       "         percent_bc_gt_75  pub_rec_bankruptcies  tax_liens  tot_hi_cred_lim  \\\n",
       "0                 0.00000               0.00000    0.00000     178050.00000   \n",
       "1                 7.70000               0.00000    0.00000     314017.00000   \n",
       "2                50.00000               0.00000    0.00000     218418.00000   \n",
       "3                 0.00000               0.00000    0.00000     381215.00000   \n",
       "4                60.00000               0.00000    0.00000     439570.00000   \n",
       "...                   ...                   ...        ...              ...   \n",
       "2260694           0.00000               0.00000    0.00000     102517.00000   \n",
       "2260695          42.90000               0.00000    1.00000     227883.00000   \n",
       "2260696          50.00000               0.00000    0.00000      55970.00000   \n",
       "2260697          40.00000               1.00000    0.00000      84664.00000   \n",
       "2260698          50.00000               0.00000    0.00000     163804.00000   \n",
       "\n",
       "         total_bal_ex_mort  total_bc_limit  total_il_high_credit_limit  \n",
       "0               7746.00000      2400.00000                 13734.00000  \n",
       "1              39475.00000     79300.00000                 24667.00000  \n",
       "2              18696.00000      6200.00000                 14877.00000  \n",
       "3              52226.00000     62500.00000                 18000.00000  \n",
       "4              95768.00000     20300.00000                 88097.00000  \n",
       "...                    ...             ...                         ...  \n",
       "2260694       104422.00000         0.00000                 52017.00000  \n",
       "2260695       140118.00000     27900.00000                172283.00000  \n",
       "2260696        28398.00000     12300.00000                 42670.00000  \n",
       "2260697        62426.00000     20700.00000                 58764.00000  \n",
       "2260698        44215.00000      9500.00000                 34169.00000  \n",
       "\n",
       "[2260668 rows x 87 columns]"
      ]
     },
     "execution_count": 28,
     "metadata": {},
     "output_type": "execute_result"
    }
   ],
   "source": [
    "data.loc[:, allfloats]"
   ]
  },
  {
   "cell_type": "code",
   "execution_count": 29,
   "metadata": {},
   "outputs": [
    {
     "data": {
      "text/html": [
       "<div>\n",
       "<style scoped>\n",
       "    .dataframe tbody tr th:only-of-type {\n",
       "        vertical-align: middle;\n",
       "    }\n",
       "\n",
       "    .dataframe tbody tr th {\n",
       "        vertical-align: top;\n",
       "    }\n",
       "\n",
       "    .dataframe thead th {\n",
       "        text-align: right;\n",
       "    }\n",
       "</style>\n",
       "<table border=\"1\" class=\"dataframe\">\n",
       "  <thead>\n",
       "    <tr style=\"text-align: right;\">\n",
       "      <th></th>\n",
       "      <th>term</th>\n",
       "      <th>emp_length</th>\n",
       "      <th>TARGET</th>\n",
       "    </tr>\n",
       "  </thead>\n",
       "  <tbody>\n",
       "    <tr>\n",
       "      <th>0</th>\n",
       "      <td>36</td>\n",
       "      <td>10</td>\n",
       "      <td>0</td>\n",
       "    </tr>\n",
       "    <tr>\n",
       "      <th>1</th>\n",
       "      <td>36</td>\n",
       "      <td>10</td>\n",
       "      <td>0</td>\n",
       "    </tr>\n",
       "    <tr>\n",
       "      <th>2</th>\n",
       "      <td>60</td>\n",
       "      <td>10</td>\n",
       "      <td>0</td>\n",
       "    </tr>\n",
       "    <tr>\n",
       "      <th>3</th>\n",
       "      <td>60</td>\n",
       "      <td>10</td>\n",
       "      <td>0</td>\n",
       "    </tr>\n",
       "    <tr>\n",
       "      <th>4</th>\n",
       "      <td>60</td>\n",
       "      <td>3</td>\n",
       "      <td>0</td>\n",
       "    </tr>\n",
       "    <tr>\n",
       "      <th>...</th>\n",
       "      <td>...</td>\n",
       "      <td>...</td>\n",
       "      <td>...</td>\n",
       "    </tr>\n",
       "    <tr>\n",
       "      <th>2260694</th>\n",
       "      <td>60</td>\n",
       "      <td>7</td>\n",
       "      <td>0</td>\n",
       "    </tr>\n",
       "    <tr>\n",
       "      <th>2260695</th>\n",
       "      <td>60</td>\n",
       "      <td>10</td>\n",
       "      <td>0</td>\n",
       "    </tr>\n",
       "    <tr>\n",
       "      <th>2260696</th>\n",
       "      <td>60</td>\n",
       "      <td>9</td>\n",
       "      <td>0</td>\n",
       "    </tr>\n",
       "    <tr>\n",
       "      <th>2260697</th>\n",
       "      <td>60</td>\n",
       "      <td>6</td>\n",
       "      <td>0</td>\n",
       "    </tr>\n",
       "    <tr>\n",
       "      <th>2260698</th>\n",
       "      <td>60</td>\n",
       "      <td>10</td>\n",
       "      <td>0</td>\n",
       "    </tr>\n",
       "  </tbody>\n",
       "</table>\n",
       "<p>2260668 rows × 3 columns</p>\n",
       "</div>"
      ],
      "text/plain": [
       "         term  emp_length  TARGET\n",
       "0          36          10       0\n",
       "1          36          10       0\n",
       "2          60          10       0\n",
       "3          60          10       0\n",
       "4          60           3       0\n",
       "...       ...         ...     ...\n",
       "2260694    60           7       0\n",
       "2260695    60          10       0\n",
       "2260696    60           9       0\n",
       "2260697    60           6       0\n",
       "2260698    60          10       0\n",
       "\n",
       "[2260668 rows x 3 columns]"
      ]
     },
     "execution_count": 29,
     "metadata": {},
     "output_type": "execute_result"
    }
   ],
   "source": [
    "data.loc[:, allints]"
   ]
  },
  {
   "cell_type": "code",
   "execution_count": 30,
   "metadata": {},
   "outputs": [],
   "source": [
    "o_ordered_subset = ['grade', 'sub_grade', 'emp_length', 'loan_status']\n",
    "o_unordered_subset = ['home_ownership', 'verification_status', 'loan_status', 'purpose', 'addr_state']\n",
    "label_encoded = ['term', 'pymnt_plan', 'initial_list_status', 'application_type', 'hardship_flag', 'disbursement_method', 'debt_settlement_flag']"
   ]
  },
  {
   "cell_type": "markdown",
   "metadata": {},
   "source": [
    "Setting up correct promotion types for StandardScaler. Not doing this will output an Invalid Promotion Type error for Date Time formats.\n",
    "\n",
    "Considering dropping time columns, purpose of the model is to predict likely for loan default based on features, we might want this to be time invariant. Time maybe spot trends over years."
   ]
  },
  {
   "cell_type": "code",
   "execution_count": 49,
   "metadata": {},
   "outputs": [],
   "source": [
    "for col in data.dtypes[data.dtypes == '<M8[ns]'].index:\n",
    "    data[col] = (data.loc[:, col] - pd.to_datetime('1970-01-01')).astype('int64') / 1e9 / 60 / 60 / 24"
   ]
  },
  {
   "cell_type": "code",
   "execution_count": 50,
   "metadata": {},
   "outputs": [],
   "source": [
    "data.reset_index(drop = True, inplace = True)"
   ]
  },
  {
   "cell_type": "code",
   "execution_count": 77,
   "metadata": {},
   "outputs": [],
   "source": [
    "def preprocess_inputs(df):\n",
    "    df = df.copy()\n",
    "    \n",
    "    #label encode\n",
    "    df = label_encode(df)\n",
    "    \n",
    "    #Binary Encode\n",
    "    df = dummy_encoding(df)\n",
    "    \n",
    "    #split into x and y\n",
    "    y = df['TARGET']\n",
    "    X = df.drop('TARGET', axis = 1)\n",
    "    \n",
    "    #Train Test Split\n",
    "    X_train, X_test, y_train, y_test = train_test_split(X, y, train_size = 0.8, random_state = 1)\n",
    "    \n",
    "    #Scale X\n",
    "    sc = StandardScaler()\n",
    "    sc.fit(X_train)\n",
    "    X_train = pd.DataFrame(sc.transform(X_train), index = X_train.index, columns = X_train.columns)\n",
    "    X_test = pd.DataFrame(sc.transform(X_test), index = X_test.index, columns = X_test.columns)\n",
    "    \n",
    "    \n",
    "    return X_train, X_test, y_train, y_test"
   ]
  },
  {
   "cell_type": "markdown",
   "metadata": {},
   "source": [
    "# Examining Class Imbalance"
   ]
  },
  {
   "cell_type": "code",
   "execution_count": 78,
   "metadata": {},
   "outputs": [],
   "source": [
    "X_train, X_test, y_train, y_test = preprocess_inputs(data)"
   ]
  },
  {
   "cell_type": "code",
   "execution_count": 79,
   "metadata": {
    "scrolled": true
   },
   "outputs": [
    {
     "data": {
      "text/plain": [
       "0    1808505\n",
       "1         29\n",
       "Name: TARGET, dtype: int64"
      ]
     },
     "execution_count": 79,
     "metadata": {},
     "output_type": "execute_result"
    }
   ],
   "source": [
    "y_train.value_counts()"
   ]
  },
  {
   "cell_type": "code",
   "execution_count": 80,
   "metadata": {
    "scrolled": true
   },
   "outputs": [
    {
     "data": {
      "application/vnd.plotly.v1+json": {
       "config": {
        "plotlyServerURL": "https://plot.ly"
       },
       "data": [
        {
         "domain": {
          "x": [
           0,
           1
          ],
          "y": [
           0,
           1
          ]
         },
         "hovertemplate": "label=%{label}<br>TARGET=%{value}<extra></extra>",
         "labels": [
          "non_default",
          "default"
         ],
         "legendgroup": "",
         "name": "",
         "showlegend": true,
         "type": "pie",
         "values": [
          1808505,
          29
         ]
        }
       ],
       "layout": {
        "legend": {
         "tracegroupgap": 0
        },
        "template": {
         "data": {
          "bar": [
           {
            "error_x": {
             "color": "#2a3f5f"
            },
            "error_y": {
             "color": "#2a3f5f"
            },
            "marker": {
             "line": {
              "color": "#E5ECF6",
              "width": 0.5
             }
            },
            "type": "bar"
           }
          ],
          "barpolar": [
           {
            "marker": {
             "line": {
              "color": "#E5ECF6",
              "width": 0.5
             }
            },
            "type": "barpolar"
           }
          ],
          "carpet": [
           {
            "aaxis": {
             "endlinecolor": "#2a3f5f",
             "gridcolor": "white",
             "linecolor": "white",
             "minorgridcolor": "white",
             "startlinecolor": "#2a3f5f"
            },
            "baxis": {
             "endlinecolor": "#2a3f5f",
             "gridcolor": "white",
             "linecolor": "white",
             "minorgridcolor": "white",
             "startlinecolor": "#2a3f5f"
            },
            "type": "carpet"
           }
          ],
          "choropleth": [
           {
            "colorbar": {
             "outlinewidth": 0,
             "ticks": ""
            },
            "type": "choropleth"
           }
          ],
          "contour": [
           {
            "colorbar": {
             "outlinewidth": 0,
             "ticks": ""
            },
            "colorscale": [
             [
              0,
              "#0d0887"
             ],
             [
              0.1111111111111111,
              "#46039f"
             ],
             [
              0.2222222222222222,
              "#7201a8"
             ],
             [
              0.3333333333333333,
              "#9c179e"
             ],
             [
              0.4444444444444444,
              "#bd3786"
             ],
             [
              0.5555555555555556,
              "#d8576b"
             ],
             [
              0.6666666666666666,
              "#ed7953"
             ],
             [
              0.7777777777777778,
              "#fb9f3a"
             ],
             [
              0.8888888888888888,
              "#fdca26"
             ],
             [
              1,
              "#f0f921"
             ]
            ],
            "type": "contour"
           }
          ],
          "contourcarpet": [
           {
            "colorbar": {
             "outlinewidth": 0,
             "ticks": ""
            },
            "type": "contourcarpet"
           }
          ],
          "heatmap": [
           {
            "colorbar": {
             "outlinewidth": 0,
             "ticks": ""
            },
            "colorscale": [
             [
              0,
              "#0d0887"
             ],
             [
              0.1111111111111111,
              "#46039f"
             ],
             [
              0.2222222222222222,
              "#7201a8"
             ],
             [
              0.3333333333333333,
              "#9c179e"
             ],
             [
              0.4444444444444444,
              "#bd3786"
             ],
             [
              0.5555555555555556,
              "#d8576b"
             ],
             [
              0.6666666666666666,
              "#ed7953"
             ],
             [
              0.7777777777777778,
              "#fb9f3a"
             ],
             [
              0.8888888888888888,
              "#fdca26"
             ],
             [
              1,
              "#f0f921"
             ]
            ],
            "type": "heatmap"
           }
          ],
          "heatmapgl": [
           {
            "colorbar": {
             "outlinewidth": 0,
             "ticks": ""
            },
            "colorscale": [
             [
              0,
              "#0d0887"
             ],
             [
              0.1111111111111111,
              "#46039f"
             ],
             [
              0.2222222222222222,
              "#7201a8"
             ],
             [
              0.3333333333333333,
              "#9c179e"
             ],
             [
              0.4444444444444444,
              "#bd3786"
             ],
             [
              0.5555555555555556,
              "#d8576b"
             ],
             [
              0.6666666666666666,
              "#ed7953"
             ],
             [
              0.7777777777777778,
              "#fb9f3a"
             ],
             [
              0.8888888888888888,
              "#fdca26"
             ],
             [
              1,
              "#f0f921"
             ]
            ],
            "type": "heatmapgl"
           }
          ],
          "histogram": [
           {
            "marker": {
             "colorbar": {
              "outlinewidth": 0,
              "ticks": ""
             }
            },
            "type": "histogram"
           }
          ],
          "histogram2d": [
           {
            "colorbar": {
             "outlinewidth": 0,
             "ticks": ""
            },
            "colorscale": [
             [
              0,
              "#0d0887"
             ],
             [
              0.1111111111111111,
              "#46039f"
             ],
             [
              0.2222222222222222,
              "#7201a8"
             ],
             [
              0.3333333333333333,
              "#9c179e"
             ],
             [
              0.4444444444444444,
              "#bd3786"
             ],
             [
              0.5555555555555556,
              "#d8576b"
             ],
             [
              0.6666666666666666,
              "#ed7953"
             ],
             [
              0.7777777777777778,
              "#fb9f3a"
             ],
             [
              0.8888888888888888,
              "#fdca26"
             ],
             [
              1,
              "#f0f921"
             ]
            ],
            "type": "histogram2d"
           }
          ],
          "histogram2dcontour": [
           {
            "colorbar": {
             "outlinewidth": 0,
             "ticks": ""
            },
            "colorscale": [
             [
              0,
              "#0d0887"
             ],
             [
              0.1111111111111111,
              "#46039f"
             ],
             [
              0.2222222222222222,
              "#7201a8"
             ],
             [
              0.3333333333333333,
              "#9c179e"
             ],
             [
              0.4444444444444444,
              "#bd3786"
             ],
             [
              0.5555555555555556,
              "#d8576b"
             ],
             [
              0.6666666666666666,
              "#ed7953"
             ],
             [
              0.7777777777777778,
              "#fb9f3a"
             ],
             [
              0.8888888888888888,
              "#fdca26"
             ],
             [
              1,
              "#f0f921"
             ]
            ],
            "type": "histogram2dcontour"
           }
          ],
          "mesh3d": [
           {
            "colorbar": {
             "outlinewidth": 0,
             "ticks": ""
            },
            "type": "mesh3d"
           }
          ],
          "parcoords": [
           {
            "line": {
             "colorbar": {
              "outlinewidth": 0,
              "ticks": ""
             }
            },
            "type": "parcoords"
           }
          ],
          "pie": [
           {
            "automargin": true,
            "type": "pie"
           }
          ],
          "scatter": [
           {
            "marker": {
             "colorbar": {
              "outlinewidth": 0,
              "ticks": ""
             }
            },
            "type": "scatter"
           }
          ],
          "scatter3d": [
           {
            "line": {
             "colorbar": {
              "outlinewidth": 0,
              "ticks": ""
             }
            },
            "marker": {
             "colorbar": {
              "outlinewidth": 0,
              "ticks": ""
             }
            },
            "type": "scatter3d"
           }
          ],
          "scattercarpet": [
           {
            "marker": {
             "colorbar": {
              "outlinewidth": 0,
              "ticks": ""
             }
            },
            "type": "scattercarpet"
           }
          ],
          "scattergeo": [
           {
            "marker": {
             "colorbar": {
              "outlinewidth": 0,
              "ticks": ""
             }
            },
            "type": "scattergeo"
           }
          ],
          "scattergl": [
           {
            "marker": {
             "colorbar": {
              "outlinewidth": 0,
              "ticks": ""
             }
            },
            "type": "scattergl"
           }
          ],
          "scattermapbox": [
           {
            "marker": {
             "colorbar": {
              "outlinewidth": 0,
              "ticks": ""
             }
            },
            "type": "scattermapbox"
           }
          ],
          "scatterpolar": [
           {
            "marker": {
             "colorbar": {
              "outlinewidth": 0,
              "ticks": ""
             }
            },
            "type": "scatterpolar"
           }
          ],
          "scatterpolargl": [
           {
            "marker": {
             "colorbar": {
              "outlinewidth": 0,
              "ticks": ""
             }
            },
            "type": "scatterpolargl"
           }
          ],
          "scatterternary": [
           {
            "marker": {
             "colorbar": {
              "outlinewidth": 0,
              "ticks": ""
             }
            },
            "type": "scatterternary"
           }
          ],
          "surface": [
           {
            "colorbar": {
             "outlinewidth": 0,
             "ticks": ""
            },
            "colorscale": [
             [
              0,
              "#0d0887"
             ],
             [
              0.1111111111111111,
              "#46039f"
             ],
             [
              0.2222222222222222,
              "#7201a8"
             ],
             [
              0.3333333333333333,
              "#9c179e"
             ],
             [
              0.4444444444444444,
              "#bd3786"
             ],
             [
              0.5555555555555556,
              "#d8576b"
             ],
             [
              0.6666666666666666,
              "#ed7953"
             ],
             [
              0.7777777777777778,
              "#fb9f3a"
             ],
             [
              0.8888888888888888,
              "#fdca26"
             ],
             [
              1,
              "#f0f921"
             ]
            ],
            "type": "surface"
           }
          ],
          "table": [
           {
            "cells": {
             "fill": {
              "color": "#EBF0F8"
             },
             "line": {
              "color": "white"
             }
            },
            "header": {
             "fill": {
              "color": "#C8D4E3"
             },
             "line": {
              "color": "white"
             }
            },
            "type": "table"
           }
          ]
         },
         "layout": {
          "annotationdefaults": {
           "arrowcolor": "#2a3f5f",
           "arrowhead": 0,
           "arrowwidth": 1
          },
          "autotypenumbers": "strict",
          "coloraxis": {
           "colorbar": {
            "outlinewidth": 0,
            "ticks": ""
           }
          },
          "colorscale": {
           "diverging": [
            [
             0,
             "#8e0152"
            ],
            [
             0.1,
             "#c51b7d"
            ],
            [
             0.2,
             "#de77ae"
            ],
            [
             0.3,
             "#f1b6da"
            ],
            [
             0.4,
             "#fde0ef"
            ],
            [
             0.5,
             "#f7f7f7"
            ],
            [
             0.6,
             "#e6f5d0"
            ],
            [
             0.7,
             "#b8e186"
            ],
            [
             0.8,
             "#7fbc41"
            ],
            [
             0.9,
             "#4d9221"
            ],
            [
             1,
             "#276419"
            ]
           ],
           "sequential": [
            [
             0,
             "#0d0887"
            ],
            [
             0.1111111111111111,
             "#46039f"
            ],
            [
             0.2222222222222222,
             "#7201a8"
            ],
            [
             0.3333333333333333,
             "#9c179e"
            ],
            [
             0.4444444444444444,
             "#bd3786"
            ],
            [
             0.5555555555555556,
             "#d8576b"
            ],
            [
             0.6666666666666666,
             "#ed7953"
            ],
            [
             0.7777777777777778,
             "#fb9f3a"
            ],
            [
             0.8888888888888888,
             "#fdca26"
            ],
            [
             1,
             "#f0f921"
            ]
           ],
           "sequentialminus": [
            [
             0,
             "#0d0887"
            ],
            [
             0.1111111111111111,
             "#46039f"
            ],
            [
             0.2222222222222222,
             "#7201a8"
            ],
            [
             0.3333333333333333,
             "#9c179e"
            ],
            [
             0.4444444444444444,
             "#bd3786"
            ],
            [
             0.5555555555555556,
             "#d8576b"
            ],
            [
             0.6666666666666666,
             "#ed7953"
            ],
            [
             0.7777777777777778,
             "#fb9f3a"
            ],
            [
             0.8888888888888888,
             "#fdca26"
            ],
            [
             1,
             "#f0f921"
            ]
           ]
          },
          "colorway": [
           "#636efa",
           "#EF553B",
           "#00cc96",
           "#ab63fa",
           "#FFA15A",
           "#19d3f3",
           "#FF6692",
           "#B6E880",
           "#FF97FF",
           "#FECB52"
          ],
          "font": {
           "color": "#2a3f5f"
          },
          "geo": {
           "bgcolor": "white",
           "lakecolor": "white",
           "landcolor": "#E5ECF6",
           "showlakes": true,
           "showland": true,
           "subunitcolor": "white"
          },
          "hoverlabel": {
           "align": "left"
          },
          "hovermode": "closest",
          "mapbox": {
           "style": "light"
          },
          "paper_bgcolor": "white",
          "plot_bgcolor": "#E5ECF6",
          "polar": {
           "angularaxis": {
            "gridcolor": "white",
            "linecolor": "white",
            "ticks": ""
           },
           "bgcolor": "#E5ECF6",
           "radialaxis": {
            "gridcolor": "white",
            "linecolor": "white",
            "ticks": ""
           }
          },
          "scene": {
           "xaxis": {
            "backgroundcolor": "#E5ECF6",
            "gridcolor": "white",
            "gridwidth": 2,
            "linecolor": "white",
            "showbackground": true,
            "ticks": "",
            "zerolinecolor": "white"
           },
           "yaxis": {
            "backgroundcolor": "#E5ECF6",
            "gridcolor": "white",
            "gridwidth": 2,
            "linecolor": "white",
            "showbackground": true,
            "ticks": "",
            "zerolinecolor": "white"
           },
           "zaxis": {
            "backgroundcolor": "#E5ECF6",
            "gridcolor": "white",
            "gridwidth": 2,
            "linecolor": "white",
            "showbackground": true,
            "ticks": "",
            "zerolinecolor": "white"
           }
          },
          "shapedefaults": {
           "line": {
            "color": "#2a3f5f"
           }
          },
          "ternary": {
           "aaxis": {
            "gridcolor": "white",
            "linecolor": "white",
            "ticks": ""
           },
           "baxis": {
            "gridcolor": "white",
            "linecolor": "white",
            "ticks": ""
           },
           "bgcolor": "#E5ECF6",
           "caxis": {
            "gridcolor": "white",
            "linecolor": "white",
            "ticks": ""
           }
          },
          "title": {
           "x": 0.05
          },
          "xaxis": {
           "automargin": true,
           "gridcolor": "white",
           "linecolor": "white",
           "ticks": "",
           "title": {
            "standoff": 15
           },
           "zerolinecolor": "white",
           "zerolinewidth": 2
          },
          "yaxis": {
           "automargin": true,
           "gridcolor": "white",
           "linecolor": "white",
           "ticks": "",
           "title": {
            "standoff": 15
           },
           "zerolinecolor": "white",
           "zerolinewidth": 2
          }
         }
        },
        "title": {
         "text": "Class Distribution"
        },
        "width": 500
       }
      },
      "text/html": [
       "<div>                            <div id=\"40671cf6-d8b9-4020-96fc-7b25773a74f3\" class=\"plotly-graph-div\" style=\"height:525px; width:500px;\"></div>            <script type=\"text/javascript\">                require([\"plotly\"], function(Plotly) {                    window.PLOTLYENV=window.PLOTLYENV || {};                                    if (document.getElementById(\"40671cf6-d8b9-4020-96fc-7b25773a74f3\")) {                    Plotly.newPlot(                        \"40671cf6-d8b9-4020-96fc-7b25773a74f3\",                        [{\"domain\": {\"x\": [0.0, 1.0], \"y\": [0.0, 1.0]}, \"hovertemplate\": \"label=%{label}<br>TARGET=%{value}<extra></extra>\", \"labels\": [\"non_default\", \"default\"], \"legendgroup\": \"\", \"name\": \"\", \"showlegend\": true, \"type\": \"pie\", \"values\": [1808505, 29]}],                        {\"legend\": {\"tracegroupgap\": 0}, \"template\": {\"data\": {\"bar\": [{\"error_x\": {\"color\": \"#2a3f5f\"}, \"error_y\": {\"color\": \"#2a3f5f\"}, \"marker\": {\"line\": {\"color\": \"#E5ECF6\", \"width\": 0.5}}, \"type\": \"bar\"}], \"barpolar\": [{\"marker\": {\"line\": {\"color\": \"#E5ECF6\", \"width\": 0.5}}, \"type\": \"barpolar\"}], \"carpet\": [{\"aaxis\": {\"endlinecolor\": \"#2a3f5f\", \"gridcolor\": \"white\", \"linecolor\": \"white\", \"minorgridcolor\": \"white\", \"startlinecolor\": \"#2a3f5f\"}, \"baxis\": {\"endlinecolor\": \"#2a3f5f\", \"gridcolor\": \"white\", \"linecolor\": \"white\", \"minorgridcolor\": \"white\", \"startlinecolor\": \"#2a3f5f\"}, \"type\": \"carpet\"}], \"choropleth\": [{\"colorbar\": {\"outlinewidth\": 0, \"ticks\": \"\"}, \"type\": \"choropleth\"}], \"contour\": [{\"colorbar\": {\"outlinewidth\": 0, \"ticks\": \"\"}, \"colorscale\": [[0.0, \"#0d0887\"], [0.1111111111111111, \"#46039f\"], [0.2222222222222222, \"#7201a8\"], [0.3333333333333333, \"#9c179e\"], [0.4444444444444444, \"#bd3786\"], [0.5555555555555556, \"#d8576b\"], [0.6666666666666666, \"#ed7953\"], [0.7777777777777778, \"#fb9f3a\"], [0.8888888888888888, \"#fdca26\"], [1.0, \"#f0f921\"]], \"type\": \"contour\"}], \"contourcarpet\": [{\"colorbar\": {\"outlinewidth\": 0, \"ticks\": \"\"}, \"type\": \"contourcarpet\"}], \"heatmap\": [{\"colorbar\": {\"outlinewidth\": 0, \"ticks\": \"\"}, \"colorscale\": [[0.0, \"#0d0887\"], [0.1111111111111111, \"#46039f\"], [0.2222222222222222, \"#7201a8\"], [0.3333333333333333, \"#9c179e\"], [0.4444444444444444, \"#bd3786\"], [0.5555555555555556, \"#d8576b\"], [0.6666666666666666, \"#ed7953\"], [0.7777777777777778, \"#fb9f3a\"], [0.8888888888888888, \"#fdca26\"], [1.0, \"#f0f921\"]], \"type\": \"heatmap\"}], \"heatmapgl\": [{\"colorbar\": {\"outlinewidth\": 0, \"ticks\": \"\"}, \"colorscale\": [[0.0, \"#0d0887\"], [0.1111111111111111, \"#46039f\"], [0.2222222222222222, \"#7201a8\"], [0.3333333333333333, \"#9c179e\"], [0.4444444444444444, \"#bd3786\"], [0.5555555555555556, \"#d8576b\"], [0.6666666666666666, \"#ed7953\"], [0.7777777777777778, \"#fb9f3a\"], [0.8888888888888888, \"#fdca26\"], [1.0, \"#f0f921\"]], \"type\": \"heatmapgl\"}], \"histogram\": [{\"marker\": {\"colorbar\": {\"outlinewidth\": 0, \"ticks\": \"\"}}, \"type\": \"histogram\"}], \"histogram2d\": [{\"colorbar\": {\"outlinewidth\": 0, \"ticks\": \"\"}, \"colorscale\": [[0.0, \"#0d0887\"], [0.1111111111111111, \"#46039f\"], [0.2222222222222222, \"#7201a8\"], [0.3333333333333333, \"#9c179e\"], [0.4444444444444444, \"#bd3786\"], [0.5555555555555556, \"#d8576b\"], [0.6666666666666666, \"#ed7953\"], [0.7777777777777778, \"#fb9f3a\"], [0.8888888888888888, \"#fdca26\"], [1.0, \"#f0f921\"]], \"type\": \"histogram2d\"}], \"histogram2dcontour\": [{\"colorbar\": {\"outlinewidth\": 0, \"ticks\": \"\"}, \"colorscale\": [[0.0, \"#0d0887\"], [0.1111111111111111, \"#46039f\"], [0.2222222222222222, \"#7201a8\"], [0.3333333333333333, \"#9c179e\"], [0.4444444444444444, \"#bd3786\"], [0.5555555555555556, \"#d8576b\"], [0.6666666666666666, \"#ed7953\"], [0.7777777777777778, \"#fb9f3a\"], [0.8888888888888888, \"#fdca26\"], [1.0, \"#f0f921\"]], \"type\": \"histogram2dcontour\"}], \"mesh3d\": [{\"colorbar\": {\"outlinewidth\": 0, \"ticks\": \"\"}, \"type\": \"mesh3d\"}], \"parcoords\": [{\"line\": {\"colorbar\": {\"outlinewidth\": 0, \"ticks\": \"\"}}, \"type\": \"parcoords\"}], \"pie\": [{\"automargin\": true, \"type\": \"pie\"}], \"scatter\": [{\"marker\": {\"colorbar\": {\"outlinewidth\": 0, \"ticks\": \"\"}}, \"type\": \"scatter\"}], \"scatter3d\": [{\"line\": {\"colorbar\": {\"outlinewidth\": 0, \"ticks\": \"\"}}, \"marker\": {\"colorbar\": {\"outlinewidth\": 0, \"ticks\": \"\"}}, \"type\": \"scatter3d\"}], \"scattercarpet\": [{\"marker\": {\"colorbar\": {\"outlinewidth\": 0, \"ticks\": \"\"}}, \"type\": \"scattercarpet\"}], \"scattergeo\": [{\"marker\": {\"colorbar\": {\"outlinewidth\": 0, \"ticks\": \"\"}}, \"type\": \"scattergeo\"}], \"scattergl\": [{\"marker\": {\"colorbar\": {\"outlinewidth\": 0, \"ticks\": \"\"}}, \"type\": \"scattergl\"}], \"scattermapbox\": [{\"marker\": {\"colorbar\": {\"outlinewidth\": 0, \"ticks\": \"\"}}, \"type\": \"scattermapbox\"}], \"scatterpolar\": [{\"marker\": {\"colorbar\": {\"outlinewidth\": 0, \"ticks\": \"\"}}, \"type\": \"scatterpolar\"}], \"scatterpolargl\": [{\"marker\": {\"colorbar\": {\"outlinewidth\": 0, \"ticks\": \"\"}}, \"type\": \"scatterpolargl\"}], \"scatterternary\": [{\"marker\": {\"colorbar\": {\"outlinewidth\": 0, \"ticks\": \"\"}}, \"type\": \"scatterternary\"}], \"surface\": [{\"colorbar\": {\"outlinewidth\": 0, \"ticks\": \"\"}, \"colorscale\": [[0.0, \"#0d0887\"], [0.1111111111111111, \"#46039f\"], [0.2222222222222222, \"#7201a8\"], [0.3333333333333333, \"#9c179e\"], [0.4444444444444444, \"#bd3786\"], [0.5555555555555556, \"#d8576b\"], [0.6666666666666666, \"#ed7953\"], [0.7777777777777778, \"#fb9f3a\"], [0.8888888888888888, \"#fdca26\"], [1.0, \"#f0f921\"]], \"type\": \"surface\"}], \"table\": [{\"cells\": {\"fill\": {\"color\": \"#EBF0F8\"}, \"line\": {\"color\": \"white\"}}, \"header\": {\"fill\": {\"color\": \"#C8D4E3\"}, \"line\": {\"color\": \"white\"}}, \"type\": \"table\"}]}, \"layout\": {\"annotationdefaults\": {\"arrowcolor\": \"#2a3f5f\", \"arrowhead\": 0, \"arrowwidth\": 1}, \"autotypenumbers\": \"strict\", \"coloraxis\": {\"colorbar\": {\"outlinewidth\": 0, \"ticks\": \"\"}}, \"colorscale\": {\"diverging\": [[0, \"#8e0152\"], [0.1, \"#c51b7d\"], [0.2, \"#de77ae\"], [0.3, \"#f1b6da\"], [0.4, \"#fde0ef\"], [0.5, \"#f7f7f7\"], [0.6, \"#e6f5d0\"], [0.7, \"#b8e186\"], [0.8, \"#7fbc41\"], [0.9, \"#4d9221\"], [1, \"#276419\"]], \"sequential\": [[0.0, \"#0d0887\"], [0.1111111111111111, \"#46039f\"], [0.2222222222222222, \"#7201a8\"], [0.3333333333333333, \"#9c179e\"], [0.4444444444444444, \"#bd3786\"], [0.5555555555555556, \"#d8576b\"], [0.6666666666666666, \"#ed7953\"], [0.7777777777777778, \"#fb9f3a\"], [0.8888888888888888, \"#fdca26\"], [1.0, \"#f0f921\"]], \"sequentialminus\": [[0.0, \"#0d0887\"], [0.1111111111111111, \"#46039f\"], [0.2222222222222222, \"#7201a8\"], [0.3333333333333333, \"#9c179e\"], [0.4444444444444444, \"#bd3786\"], [0.5555555555555556, \"#d8576b\"], [0.6666666666666666, \"#ed7953\"], [0.7777777777777778, \"#fb9f3a\"], [0.8888888888888888, \"#fdca26\"], [1.0, \"#f0f921\"]]}, \"colorway\": [\"#636efa\", \"#EF553B\", \"#00cc96\", \"#ab63fa\", \"#FFA15A\", \"#19d3f3\", \"#FF6692\", \"#B6E880\", \"#FF97FF\", \"#FECB52\"], \"font\": {\"color\": \"#2a3f5f\"}, \"geo\": {\"bgcolor\": \"white\", \"lakecolor\": \"white\", \"landcolor\": \"#E5ECF6\", \"showlakes\": true, \"showland\": true, \"subunitcolor\": \"white\"}, \"hoverlabel\": {\"align\": \"left\"}, \"hovermode\": \"closest\", \"mapbox\": {\"style\": \"light\"}, \"paper_bgcolor\": \"white\", \"plot_bgcolor\": \"#E5ECF6\", \"polar\": {\"angularaxis\": {\"gridcolor\": \"white\", \"linecolor\": \"white\", \"ticks\": \"\"}, \"bgcolor\": \"#E5ECF6\", \"radialaxis\": {\"gridcolor\": \"white\", \"linecolor\": \"white\", \"ticks\": \"\"}}, \"scene\": {\"xaxis\": {\"backgroundcolor\": \"#E5ECF6\", \"gridcolor\": \"white\", \"gridwidth\": 2, \"linecolor\": \"white\", \"showbackground\": true, \"ticks\": \"\", \"zerolinecolor\": \"white\"}, \"yaxis\": {\"backgroundcolor\": \"#E5ECF6\", \"gridcolor\": \"white\", \"gridwidth\": 2, \"linecolor\": \"white\", \"showbackground\": true, \"ticks\": \"\", \"zerolinecolor\": \"white\"}, \"zaxis\": {\"backgroundcolor\": \"#E5ECF6\", \"gridcolor\": \"white\", \"gridwidth\": 2, \"linecolor\": \"white\", \"showbackground\": true, \"ticks\": \"\", \"zerolinecolor\": \"white\"}}, \"shapedefaults\": {\"line\": {\"color\": \"#2a3f5f\"}}, \"ternary\": {\"aaxis\": {\"gridcolor\": \"white\", \"linecolor\": \"white\", \"ticks\": \"\"}, \"baxis\": {\"gridcolor\": \"white\", \"linecolor\": \"white\", \"ticks\": \"\"}, \"bgcolor\": \"#E5ECF6\", \"caxis\": {\"gridcolor\": \"white\", \"linecolor\": \"white\", \"ticks\": \"\"}}, \"title\": {\"x\": 0.05}, \"xaxis\": {\"automargin\": true, \"gridcolor\": \"white\", \"linecolor\": \"white\", \"ticks\": \"\", \"title\": {\"standoff\": 15}, \"zerolinecolor\": \"white\", \"zerolinewidth\": 2}, \"yaxis\": {\"automargin\": true, \"gridcolor\": \"white\", \"linecolor\": \"white\", \"ticks\": \"\", \"title\": {\"standoff\": 15}, \"zerolinecolor\": \"white\", \"zerolinewidth\": 2}}}, \"title\": {\"text\": \"Class Distribution\"}, \"width\": 500},                        {\"responsive\": true}                    ).then(function(){\n",
       "                            \n",
       "var gd = document.getElementById('40671cf6-d8b9-4020-96fc-7b25773a74f3');\n",
       "var x = new MutationObserver(function (mutations, observer) {{\n",
       "        var display = window.getComputedStyle(gd).display;\n",
       "        if (!display || display === 'none') {{\n",
       "            console.log([gd, 'removed!']);\n",
       "            Plotly.purge(gd);\n",
       "            observer.disconnect();\n",
       "        }}\n",
       "}});\n",
       "\n",
       "// Listen for the removal of the full notebook cells\n",
       "var notebookContainer = gd.closest('#notebook-container');\n",
       "if (notebookContainer) {{\n",
       "    x.observe(notebookContainer, {childList: true});\n",
       "}}\n",
       "\n",
       "// Listen for the clearing of the current output cell\n",
       "var outputEl = gd.closest('.output');\n",
       "if (outputEl) {{\n",
       "    x.observe(outputEl, {childList: true});\n",
       "}}\n",
       "\n",
       "                        })                };                });            </script>        </div>"
      ]
     },
     "metadata": {},
     "output_type": "display_data"
    }
   ],
   "source": [
    "fig = px.pie(\n",
    "    y_train.value_counts(),\n",
    "    values = 'TARGET',\n",
    "    names = ['non_default', 'default'],\n",
    "    title = 'Class Distribution',\n",
    "    width = 500\n",
    ")\n",
    "fig.show()"
   ]
  },
  {
   "cell_type": "markdown",
   "metadata": {},
   "source": [
    "# Training a Model (Imbalanced Classes)"
   ]
  },
  {
   "cell_type": "code",
   "execution_count": 81,
   "metadata": {},
   "outputs": [],
   "source": [
    "def evaluate_model(model, X_test, y_test):\n",
    "    \n",
    "    acc = model.score(X_test, y_test)\n",
    "    print(\"Accuracy: {:.2f}%\".format(acc * 100))\n",
    "    \n",
    "    y_pred = model.predict(X_test)\n",
    "    \n",
    "    cm = confusion_matrix(y_test, y_pred, labels=['non_default', 'default'])\n",
    "    clr = classification_report(y_test, y_pred, labels=['non_default', 'default'])\n",
    "    \n",
    "    plt.figure(figsize=(6, 6))\n",
    "    sns.heatmap(cm, annot=True, fmt='g', vmin=0, cmap='Blues', cbar=False)\n",
    "    plt.xticks(ticks=[0.5, 1.5], labels=['non_default', 'default'])\n",
    "    plt.yticks(ticks=[0.5, 1.5], labels=['non_default', 'default'])\n",
    "    plt.xlabel(\"Predicted\")\n",
    "    plt.ylabel(\"Actual\")\n",
    "    plt.title(\"Confusion Matrix\")\n",
    "    plt.show()\n",
    "    \n",
    "    print(\"Classification Report:\\n----------------------\\n\", clr)"
   ]
  },
  {
   "cell_type": "code",
   "execution_count": 82,
   "metadata": {},
   "outputs": [
    {
     "name": "stdout",
     "output_type": "stream",
     "text": [
      "Accuracy: 100.00%\n"
     ]
    },
    {
     "ename": "ValueError",
     "evalue": "At least one label specified must be in y_true",
     "output_type": "error",
     "traceback": [
      "\u001b[1;31m---------------------------------------------------------------------------\u001b[0m",
      "\u001b[1;31mValueError\u001b[0m                                Traceback (most recent call last)",
      "\u001b[1;32m<ipython-input-82-98fb6c6e443c>\u001b[0m in \u001b[0;36m<module>\u001b[1;34m\u001b[0m\n\u001b[0;32m      2\u001b[0m \u001b[0mmodel\u001b[0m\u001b[1;33m.\u001b[0m\u001b[0mfit\u001b[0m\u001b[1;33m(\u001b[0m\u001b[0mX_train\u001b[0m\u001b[1;33m,\u001b[0m \u001b[0my_train\u001b[0m\u001b[1;33m)\u001b[0m\u001b[1;33m\u001b[0m\u001b[1;33m\u001b[0m\u001b[0m\n\u001b[0;32m      3\u001b[0m \u001b[1;33m\u001b[0m\u001b[0m\n\u001b[1;32m----> 4\u001b[1;33m \u001b[0mevaluate_model\u001b[0m\u001b[1;33m(\u001b[0m\u001b[0mmodel\u001b[0m\u001b[1;33m,\u001b[0m \u001b[0mX_test\u001b[0m\u001b[1;33m,\u001b[0m \u001b[0my_test\u001b[0m\u001b[1;33m)\u001b[0m\u001b[1;33m\u001b[0m\u001b[1;33m\u001b[0m\u001b[0m\n\u001b[0m",
      "\u001b[1;32m<ipython-input-81-4d09bc524800>\u001b[0m in \u001b[0;36mevaluate_model\u001b[1;34m(model, X_test, y_test)\u001b[0m\n\u001b[0;32m      6\u001b[0m     \u001b[0my_pred\u001b[0m \u001b[1;33m=\u001b[0m \u001b[0mmodel\u001b[0m\u001b[1;33m.\u001b[0m\u001b[0mpredict\u001b[0m\u001b[1;33m(\u001b[0m\u001b[0mX_test\u001b[0m\u001b[1;33m)\u001b[0m\u001b[1;33m\u001b[0m\u001b[1;33m\u001b[0m\u001b[0m\n\u001b[0;32m      7\u001b[0m \u001b[1;33m\u001b[0m\u001b[0m\n\u001b[1;32m----> 8\u001b[1;33m     \u001b[0mcm\u001b[0m \u001b[1;33m=\u001b[0m \u001b[0mconfusion_matrix\u001b[0m\u001b[1;33m(\u001b[0m\u001b[0my_test\u001b[0m\u001b[1;33m,\u001b[0m \u001b[0my_pred\u001b[0m\u001b[1;33m,\u001b[0m \u001b[0mlabels\u001b[0m\u001b[1;33m=\u001b[0m\u001b[1;33m[\u001b[0m\u001b[1;34m'non_default'\u001b[0m\u001b[1;33m,\u001b[0m \u001b[1;34m'default'\u001b[0m\u001b[1;33m]\u001b[0m\u001b[1;33m)\u001b[0m\u001b[1;33m\u001b[0m\u001b[1;33m\u001b[0m\u001b[0m\n\u001b[0m\u001b[0;32m      9\u001b[0m     \u001b[0mclr\u001b[0m \u001b[1;33m=\u001b[0m \u001b[0mclassification_report\u001b[0m\u001b[1;33m(\u001b[0m\u001b[0my_test\u001b[0m\u001b[1;33m,\u001b[0m \u001b[0my_pred\u001b[0m\u001b[1;33m,\u001b[0m \u001b[0mlabels\u001b[0m\u001b[1;33m=\u001b[0m\u001b[1;33m[\u001b[0m\u001b[1;34m'non_default'\u001b[0m\u001b[1;33m,\u001b[0m \u001b[1;34m'default'\u001b[0m\u001b[1;33m]\u001b[0m\u001b[1;33m)\u001b[0m\u001b[1;33m\u001b[0m\u001b[1;33m\u001b[0m\u001b[0m\n\u001b[0;32m     10\u001b[0m \u001b[1;33m\u001b[0m\u001b[0m\n",
      "\u001b[1;32m~\\anaconda3\\lib\\site-packages\\sklearn\\utils\\validation.py\u001b[0m in \u001b[0;36minner_f\u001b[1;34m(*args, **kwargs)\u001b[0m\n\u001b[0;32m     61\u001b[0m             \u001b[0mextra_args\u001b[0m \u001b[1;33m=\u001b[0m \u001b[0mlen\u001b[0m\u001b[1;33m(\u001b[0m\u001b[0margs\u001b[0m\u001b[1;33m)\u001b[0m \u001b[1;33m-\u001b[0m \u001b[0mlen\u001b[0m\u001b[1;33m(\u001b[0m\u001b[0mall_args\u001b[0m\u001b[1;33m)\u001b[0m\u001b[1;33m\u001b[0m\u001b[1;33m\u001b[0m\u001b[0m\n\u001b[0;32m     62\u001b[0m             \u001b[1;32mif\u001b[0m \u001b[0mextra_args\u001b[0m \u001b[1;33m<=\u001b[0m \u001b[1;36m0\u001b[0m\u001b[1;33m:\u001b[0m\u001b[1;33m\u001b[0m\u001b[1;33m\u001b[0m\u001b[0m\n\u001b[1;32m---> 63\u001b[1;33m                 \u001b[1;32mreturn\u001b[0m \u001b[0mf\u001b[0m\u001b[1;33m(\u001b[0m\u001b[1;33m*\u001b[0m\u001b[0margs\u001b[0m\u001b[1;33m,\u001b[0m \u001b[1;33m**\u001b[0m\u001b[0mkwargs\u001b[0m\u001b[1;33m)\u001b[0m\u001b[1;33m\u001b[0m\u001b[1;33m\u001b[0m\u001b[0m\n\u001b[0m\u001b[0;32m     64\u001b[0m \u001b[1;33m\u001b[0m\u001b[0m\n\u001b[0;32m     65\u001b[0m             \u001b[1;31m# extra_args > 0\u001b[0m\u001b[1;33m\u001b[0m\u001b[1;33m\u001b[0m\u001b[1;33m\u001b[0m\u001b[0m\n",
      "\u001b[1;32m~\\anaconda3\\lib\\site-packages\\sklearn\\metrics\\_classification.py\u001b[0m in \u001b[0;36mconfusion_matrix\u001b[1;34m(y_true, y_pred, labels, sample_weight, normalize)\u001b[0m\n\u001b[0;32m    308\u001b[0m             \u001b[1;32mreturn\u001b[0m \u001b[0mnp\u001b[0m\u001b[1;33m.\u001b[0m\u001b[0mzeros\u001b[0m\u001b[1;33m(\u001b[0m\u001b[1;33m(\u001b[0m\u001b[0mn_labels\u001b[0m\u001b[1;33m,\u001b[0m \u001b[0mn_labels\u001b[0m\u001b[1;33m)\u001b[0m\u001b[1;33m,\u001b[0m \u001b[0mdtype\u001b[0m\u001b[1;33m=\u001b[0m\u001b[0mint\u001b[0m\u001b[1;33m)\u001b[0m\u001b[1;33m\u001b[0m\u001b[1;33m\u001b[0m\u001b[0m\n\u001b[0;32m    309\u001b[0m         \u001b[1;32melif\u001b[0m \u001b[0mnp\u001b[0m\u001b[1;33m.\u001b[0m\u001b[0mall\u001b[0m\u001b[1;33m(\u001b[0m\u001b[1;33m[\u001b[0m\u001b[0ml\u001b[0m \u001b[1;32mnot\u001b[0m \u001b[1;32min\u001b[0m \u001b[0my_true\u001b[0m \u001b[1;32mfor\u001b[0m \u001b[0ml\u001b[0m \u001b[1;32min\u001b[0m \u001b[0mlabels\u001b[0m\u001b[1;33m]\u001b[0m\u001b[1;33m)\u001b[0m\u001b[1;33m:\u001b[0m\u001b[1;33m\u001b[0m\u001b[1;33m\u001b[0m\u001b[0m\n\u001b[1;32m--> 310\u001b[1;33m             \u001b[1;32mraise\u001b[0m \u001b[0mValueError\u001b[0m\u001b[1;33m(\u001b[0m\u001b[1;34m\"At least one label specified must be in y_true\"\u001b[0m\u001b[1;33m)\u001b[0m\u001b[1;33m\u001b[0m\u001b[1;33m\u001b[0m\u001b[0m\n\u001b[0m\u001b[0;32m    311\u001b[0m \u001b[1;33m\u001b[0m\u001b[0m\n\u001b[0;32m    312\u001b[0m     \u001b[1;32mif\u001b[0m \u001b[0msample_weight\u001b[0m \u001b[1;32mis\u001b[0m \u001b[1;32mNone\u001b[0m\u001b[1;33m:\u001b[0m\u001b[1;33m\u001b[0m\u001b[1;33m\u001b[0m\u001b[0m\n",
      "\u001b[1;31mValueError\u001b[0m: At least one label specified must be in y_true"
     ]
    }
   ],
   "source": [
    "model = LogisticRegression()\n",
    "model.fit(X_train, y_train)\n",
    "\n",
    "evaluate_model(model, X_test, y_test)"
   ]
  },
  {
   "cell_type": "markdown",
   "metadata": {},
   "source": [
    "# Label Encoding and One Hot Encoding:"
   ]
  },
  {
   "cell_type": "markdown",
   "metadata": {},
   "source": [
    "Label Encoding will give categories an arbitrary ordering so it only makes sense with categories that have 2 unique values for example, yes and no. With categorical values that have 2 or more unique values one hot encoding is the better option. \n",
    "\n",
    "The question here is whether or not I am going to split into train/test, or just look at training accuracy. If I'm planning on splitting, I want to do so before imputing the data, to avoid leaking any info from the test set into the model. But since this data has already be imputed it might be interesting to compare the results."
   ]
  },
  {
   "cell_type": "code",
   "execution_count": 40,
   "metadata": {
    "scrolled": false
   },
   "outputs": [],
   "source": [
    "#Label Encoding\n",
    "def label_encode(df):\n",
    "    count = 0\n",
    "\n",
    "    for col in df:\n",
    "        if df[col].dtype == 'object':\n",
    "            if len(list(df[col].unique())) <= 2:     \n",
    "                le = preprocessing.LabelEncoder()\n",
    "                df[col] = le.fit_transform(df[col])\n",
    "                count += 1\n",
    "\n",
    "    return df"
   ]
  },
  {
   "cell_type": "code",
   "execution_count": 59,
   "metadata": {},
   "outputs": [],
   "source": [
    "#One Hot Encoding\n",
    "def dummy_encoding(df):\n",
    "    df = pd.get_dummies(df)\n",
    "    \n",
    "    return df"
   ]
  },
  {
   "cell_type": "markdown",
   "metadata": {},
   "source": [
    "# Conducting Train Test Split:"
   ]
  },
  {
   "cell_type": "markdown",
   "metadata": {},
   "source": [
    "Here I am normalizing or standarizing the data so it has a mean of 0 and a standard deviation of 1"
   ]
  },
  {
   "cell_type": "code",
   "execution_count": 56,
   "metadata": {
    "scrolled": true
   },
   "outputs": [],
   "source": [
    "def scaling_data(df):\n",
    "    sc = StandardScaler()\n",
    "    sc.fit(X_train)\n",
    "    X_train = pd.DataFrame(sc.transform(X_train), index = X_train.index, columns = X_train.columns)\n",
    "    X_test = pd.DataFrame(sc.transform(X_test), index = X_test.index, columns = X_test.columns)\n",
    "    \n",
    "    return df"
   ]
  },
  {
   "cell_type": "markdown",
   "metadata": {},
   "source": [
    "# Oversampling the Training Set using SMOTE:"
   ]
  },
  {
   "cell_type": "code",
   "execution_count": 15,
   "metadata": {},
   "outputs": [],
   "source": [
    "from imblearn.over_sampling import SMOTE"
   ]
  },
  {
   "cell_type": "code",
   "execution_count": 16,
   "metadata": {},
   "outputs": [],
   "source": [
    "sm = SMOTE(random_state=12, sampling_strategy = 1.0)\n",
    "x_train_r, y_train_r = sm.fit_resample(X_train, y_train)"
   ]
  },
  {
   "cell_type": "code",
   "execution_count": 17,
   "metadata": {},
   "outputs": [
    {
     "data": {
      "text/plain": [
       "LogisticRegression(C=0.0001, random_state=21)"
      ]
     },
     "execution_count": 17,
     "metadata": {},
     "output_type": "execute_result"
    }
   ],
   "source": [
    "from sklearn.linear_model import LogisticRegression\n",
    "\n",
    "log_reg = LogisticRegression(C = 0.0001,random_state=21)\n",
    "\n",
    "log_reg.fit(x_train_r, y_train_r)"
   ]
  },
  {
   "cell_type": "code",
   "execution_count": 20,
   "metadata": {},
   "outputs": [],
   "source": [
    "from sklearn.ensemble import RandomForestClassifier\n",
    "from sklearn.model_selection import cross_val_score, cross_val_predict\n",
    "from sklearn.metrics import accuracy_score, classification_report, confusion_matrix"
   ]
  }
 ],
 "metadata": {
  "kernelspec": {
   "display_name": "Python 3",
   "language": "python",
   "name": "python3"
  },
  "language_info": {
   "codemirror_mode": {
    "name": "ipython",
    "version": 3
   },
   "file_extension": ".py",
   "mimetype": "text/x-python",
   "name": "python",
   "nbconvert_exporter": "python",
   "pygments_lexer": "ipython3",
   "version": "3.7.6"
  }
 },
 "nbformat": 4,
 "nbformat_minor": 4
}
