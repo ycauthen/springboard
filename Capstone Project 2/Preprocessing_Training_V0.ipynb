{
 "cells": [
  {
   "cell_type": "markdown",
   "metadata": {},
   "source": [
    "# Preprocessing/Training"
   ]
  },
  {
   "cell_type": "markdown",
   "metadata": {},
   "source": [
    "For this supervised classification problem I will be answering: what is the probability a given person will default on a personal loan? I am building a model that is going to predict if a person will default on a loan given that their loan status is not defaulted.\n",
    "    \n",
    "The training set consists of 2260668 rows and 108 columns with 40 negative examples of defaulted loans.\n",
    "    \n",
    "Two specific classification models I will be testing are **Logistic Regression** and **Random Forest Classifier**."
   ]
  },
  {
   "cell_type": "code",
   "execution_count": 1,
   "metadata": {},
   "outputs": [],
   "source": [
    "import numpy as np\n",
    "import pandas as pd\n",
    "import pickle\n",
    "import datetime\n",
    "\n",
    "import plotly.express as px\n",
    "import matplotlib.pyplot as plt\n",
    "import seaborn as sns\n",
    "sns.set_style('darkgrid')\n",
    "\n",
    "from sklearn import preprocessing\n",
    "from sklearn.model_selection import train_test_split\n",
    "from sklearn.preprocessing import StandardScaler\n",
    "from imblearn.over_sampling import RandomOverSampler, SMOTE\n",
    "\n",
    "from sklearn.linear_model import LogisticRegression\n",
    "from sklearn.metrics import accuracy_score\n",
    "\n",
    "from sklearn.metrics import confusion_matrix, classification_report\n",
    "\n",
    "import warnings\n",
    "warnings.filterwarnings(action = 'ignore')"
   ]
  },
  {
   "cell_type": "code",
   "execution_count": 2,
   "metadata": {},
   "outputs": [],
   "source": [
    "with open('lending_club_missingvals_pick.pkl', 'rb') as pickle_file:\n",
    "    df = pickle.load(pickle_file)"
   ]
  },
  {
   "cell_type": "code",
   "execution_count": 3,
   "metadata": {},
   "outputs": [
    {
     "data": {
      "text/html": [
       "<div>\n",
       "<style scoped>\n",
       "    .dataframe tbody tr th:only-of-type {\n",
       "        vertical-align: middle;\n",
       "    }\n",
       "\n",
       "    .dataframe tbody tr th {\n",
       "        vertical-align: top;\n",
       "    }\n",
       "\n",
       "    .dataframe thead th {\n",
       "        text-align: right;\n",
       "    }\n",
       "</style>\n",
       "<table border=\"1\" class=\"dataframe\">\n",
       "  <thead>\n",
       "    <tr style=\"text-align: right;\">\n",
       "      <th></th>\n",
       "      <th>loan_amnt</th>\n",
       "      <th>funded_amnt</th>\n",
       "      <th>funded_amnt_inv</th>\n",
       "      <th>term</th>\n",
       "      <th>int_rate</th>\n",
       "      <th>installment</th>\n",
       "      <th>grade</th>\n",
       "      <th>sub_grade</th>\n",
       "      <th>emp_length</th>\n",
       "      <th>home_ownership</th>\n",
       "      <th>...</th>\n",
       "      <th>pub_rec_bankruptcies</th>\n",
       "      <th>tax_liens</th>\n",
       "      <th>tot_hi_cred_lim</th>\n",
       "      <th>total_bal_ex_mort</th>\n",
       "      <th>total_bc_limit</th>\n",
       "      <th>total_il_high_credit_limit</th>\n",
       "      <th>hardship_flag</th>\n",
       "      <th>disbursement_method</th>\n",
       "      <th>debt_settlement_flag</th>\n",
       "      <th>TARGET</th>\n",
       "    </tr>\n",
       "  </thead>\n",
       "  <tbody>\n",
       "    <tr>\n",
       "      <th>0</th>\n",
       "      <td>3600.0</td>\n",
       "      <td>3600.0</td>\n",
       "      <td>3600.0</td>\n",
       "      <td>36</td>\n",
       "      <td>13.99</td>\n",
       "      <td>123.03</td>\n",
       "      <td>C</td>\n",
       "      <td>C4</td>\n",
       "      <td>10</td>\n",
       "      <td>MORTGAGE</td>\n",
       "      <td>...</td>\n",
       "      <td>0.0</td>\n",
       "      <td>0.0</td>\n",
       "      <td>178050.0</td>\n",
       "      <td>7746.0</td>\n",
       "      <td>2400.0</td>\n",
       "      <td>13734.0</td>\n",
       "      <td>N</td>\n",
       "      <td>Cash</td>\n",
       "      <td>N</td>\n",
       "      <td>0</td>\n",
       "    </tr>\n",
       "    <tr>\n",
       "      <th>1</th>\n",
       "      <td>24700.0</td>\n",
       "      <td>24700.0</td>\n",
       "      <td>24700.0</td>\n",
       "      <td>36</td>\n",
       "      <td>11.99</td>\n",
       "      <td>820.28</td>\n",
       "      <td>C</td>\n",
       "      <td>C1</td>\n",
       "      <td>10</td>\n",
       "      <td>MORTGAGE</td>\n",
       "      <td>...</td>\n",
       "      <td>0.0</td>\n",
       "      <td>0.0</td>\n",
       "      <td>314017.0</td>\n",
       "      <td>39475.0</td>\n",
       "      <td>79300.0</td>\n",
       "      <td>24667.0</td>\n",
       "      <td>N</td>\n",
       "      <td>Cash</td>\n",
       "      <td>N</td>\n",
       "      <td>0</td>\n",
       "    </tr>\n",
       "    <tr>\n",
       "      <th>2</th>\n",
       "      <td>20000.0</td>\n",
       "      <td>20000.0</td>\n",
       "      <td>20000.0</td>\n",
       "      <td>60</td>\n",
       "      <td>10.78</td>\n",
       "      <td>432.66</td>\n",
       "      <td>B</td>\n",
       "      <td>B4</td>\n",
       "      <td>10</td>\n",
       "      <td>MORTGAGE</td>\n",
       "      <td>...</td>\n",
       "      <td>0.0</td>\n",
       "      <td>0.0</td>\n",
       "      <td>218418.0</td>\n",
       "      <td>18696.0</td>\n",
       "      <td>6200.0</td>\n",
       "      <td>14877.0</td>\n",
       "      <td>N</td>\n",
       "      <td>Cash</td>\n",
       "      <td>N</td>\n",
       "      <td>0</td>\n",
       "    </tr>\n",
       "    <tr>\n",
       "      <th>3</th>\n",
       "      <td>35000.0</td>\n",
       "      <td>35000.0</td>\n",
       "      <td>35000.0</td>\n",
       "      <td>60</td>\n",
       "      <td>14.85</td>\n",
       "      <td>829.90</td>\n",
       "      <td>C</td>\n",
       "      <td>C5</td>\n",
       "      <td>10</td>\n",
       "      <td>MORTGAGE</td>\n",
       "      <td>...</td>\n",
       "      <td>0.0</td>\n",
       "      <td>0.0</td>\n",
       "      <td>381215.0</td>\n",
       "      <td>52226.0</td>\n",
       "      <td>62500.0</td>\n",
       "      <td>18000.0</td>\n",
       "      <td>N</td>\n",
       "      <td>Cash</td>\n",
       "      <td>N</td>\n",
       "      <td>0</td>\n",
       "    </tr>\n",
       "    <tr>\n",
       "      <th>4</th>\n",
       "      <td>10400.0</td>\n",
       "      <td>10400.0</td>\n",
       "      <td>10400.0</td>\n",
       "      <td>60</td>\n",
       "      <td>22.45</td>\n",
       "      <td>289.91</td>\n",
       "      <td>F</td>\n",
       "      <td>F1</td>\n",
       "      <td>3</td>\n",
       "      <td>MORTGAGE</td>\n",
       "      <td>...</td>\n",
       "      <td>0.0</td>\n",
       "      <td>0.0</td>\n",
       "      <td>439570.0</td>\n",
       "      <td>95768.0</td>\n",
       "      <td>20300.0</td>\n",
       "      <td>88097.0</td>\n",
       "      <td>N</td>\n",
       "      <td>Cash</td>\n",
       "      <td>N</td>\n",
       "      <td>0</td>\n",
       "    </tr>\n",
       "  </tbody>\n",
       "</table>\n",
       "<p>5 rows × 108 columns</p>\n",
       "</div>"
      ],
      "text/plain": [
       "   loan_amnt  funded_amnt  funded_amnt_inv  term  int_rate  installment grade  \\\n",
       "0     3600.0       3600.0           3600.0    36     13.99       123.03     C   \n",
       "1    24700.0      24700.0          24700.0    36     11.99       820.28     C   \n",
       "2    20000.0      20000.0          20000.0    60     10.78       432.66     B   \n",
       "3    35000.0      35000.0          35000.0    60     14.85       829.90     C   \n",
       "4    10400.0      10400.0          10400.0    60     22.45       289.91     F   \n",
       "\n",
       "  sub_grade  emp_length home_ownership  ...  pub_rec_bankruptcies tax_liens  \\\n",
       "0        C4          10       MORTGAGE  ...                   0.0       0.0   \n",
       "1        C1          10       MORTGAGE  ...                   0.0       0.0   \n",
       "2        B4          10       MORTGAGE  ...                   0.0       0.0   \n",
       "3        C5          10       MORTGAGE  ...                   0.0       0.0   \n",
       "4        F1           3       MORTGAGE  ...                   0.0       0.0   \n",
       "\n",
       "  tot_hi_cred_lim total_bal_ex_mort total_bc_limit total_il_high_credit_limit  \\\n",
       "0        178050.0            7746.0         2400.0                    13734.0   \n",
       "1        314017.0           39475.0        79300.0                    24667.0   \n",
       "2        218418.0           18696.0         6200.0                    14877.0   \n",
       "3        381215.0           52226.0        62500.0                    18000.0   \n",
       "4        439570.0           95768.0        20300.0                    88097.0   \n",
       "\n",
       "  hardship_flag  disbursement_method  debt_settlement_flag TARGET  \n",
       "0             N                 Cash                     N      0  \n",
       "1             N                 Cash                     N      0  \n",
       "2             N                 Cash                     N      0  \n",
       "3             N                 Cash                     N      0  \n",
       "4             N                 Cash                     N      0  \n",
       "\n",
       "[5 rows x 108 columns]"
      ]
     },
     "execution_count": 3,
     "metadata": {},
     "output_type": "execute_result"
    }
   ],
   "source": [
    "df.head()"
   ]
  },
  {
   "cell_type": "code",
   "execution_count": 6,
   "metadata": {},
   "outputs": [],
   "source": [
    "df.drop(['loan_status'], axis = 1, inplace = True)"
   ]
  },
  {
   "cell_type": "markdown",
   "metadata": {},
   "source": [
    "## Label Encoding, Ordinal Encoding, and Dummy Variables"
   ]
  },
  {
   "cell_type": "code",
   "execution_count": 8,
   "metadata": {
    "scrolled": false
   },
   "outputs": [
    {
     "data": {
      "text/plain": [
       "Text(0, 0.5, 'Data type')"
      ]
     },
     "execution_count": 8,
     "metadata": {},
     "output_type": "execute_result"
    },
    {
     "data": {
      "image/png": "[encoded data removed]",
      "text/plain": [
       "<Figure size 432x288 with 1 Axes>"
      ]
     },
     "metadata": {},
     "output_type": "display_data"
    }
   ],
   "source": [
    "df.dtypes.value_counts().sort_values().plot(kind='barh')\n",
    "plt.title('Number of columns distributed by Data Types',fontsize=20)\n",
    "plt.xlabel('Number of columns',fontsize=15)\n",
    "plt.ylabel('Data type',fontsize=15)"
   ]
  },
  {
   "cell_type": "code",
   "execution_count": 13,
   "metadata": {},
   "outputs": [
    {
     "data": {
      "text/plain": [
       "str"
      ]
     },
     "execution_count": 13,
     "metadata": {},
     "output_type": "execute_result"
    }
   ],
   "source": [
    "type('TARGET')"
   ]
  },
  {
   "cell_type": "markdown",
   "metadata": {},
   "source": [
    "For the categorical 'O' dtypes I subset the features by ordered and unordered to use ordinal encoder and dummy variables respectively. Features with 2 or fewer unique values cab be label encoded. Lending Club EDA Part 2 should be referenced for further explainations on transforming data types. For simplicity I will only using dummy variables."
   ]
  },
  {
   "cell_type": "code",
   "execution_count": 9,
   "metadata": {},
   "outputs": [],
   "source": [
    "o_ordered_subset = ['grade', 'sub_grade', 'emp_length', 'loan_status']\n",
    "o_unordered_subset = ['home_ownership', 'verification_status', 'loan_status', 'purpose', 'addr_state']\n",
    "label_encoded = ['term', 'pymnt_plan', 'initial_list_status', 'application_type', 'hardship_flag', 'disbursement_method', 'debt_settlement_flag']"
   ]
  },
  {
   "cell_type": "markdown",
   "metadata": {},
   "source": [
    "Label Encoding will give categories an arbitrary ordering so it only makes sense with categories that have 2 unique values for example, yes and no. With categorical values that have 2 or more unique values one hot encoding is the better option. "
   ]
  },
  {
   "cell_type": "code",
   "execution_count": 10,
   "metadata": {},
   "outputs": [],
   "source": [
    "def dummy_encoding(df):\n",
    "    \n",
    "    df = pd.get_dummies(df)\n",
    "    \n",
    "    return df"
   ]
  },
  {
   "cell_type": "markdown",
   "metadata": {},
   "source": [
    "Setting up correct promotion types for StandardScaler. Not doing this will output an Invalid Promotion Type error for Date Time formats.\n",
    "\n",
    "Considering dropping time columns, purpose of the model is to predict likely for loan default based on features, we might want this to be time invariant. Time maybe spot trends over years."
   ]
  },
  {
   "cell_type": "code",
   "execution_count": 14,
   "metadata": {},
   "outputs": [],
   "source": [
    "for col in df.dtypes[df.dtypes == '<M8[ns]'].index:\n",
    "    df[col] = (df.loc[:, col] - pd.to_datetime('1970-01-01')).astype('int64') / 1e9 / 60 / 60 / 24"
   ]
  },
  {
   "cell_type": "code",
   "execution_count": 15,
   "metadata": {},
   "outputs": [],
   "source": [
    "df.reset_index(drop = True, inplace = True)"
   ]
  },
  {
   "cell_type": "markdown",
   "metadata": {},
   "source": [
    "### 2 Features Still Contained Missing Values"
   ]
  },
  {
   "cell_type": "code",
   "execution_count": 22,
   "metadata": {
    "scrolled": false
   },
   "outputs": [
    {
     "data": {
      "text/plain": [
       "1671"
      ]
     },
     "execution_count": 22,
     "metadata": {},
     "output_type": "execute_result"
    }
   ],
   "source": [
    "df['annual_inc'].isna().sum()"
   ]
  },
  {
   "cell_type": "code",
   "execution_count": 23,
   "metadata": {},
   "outputs": [],
   "source": [
    "annualincmissingindex = df[df['annual_inc'].isna() == True].index"
   ]
  },
  {
   "cell_type": "code",
   "execution_count": 24,
   "metadata": {},
   "outputs": [],
   "source": [
    "df.drop(annualincmissingindex, axis = 0, inplace = True)"
   ]
  },
  {
   "cell_type": "code",
   "execution_count": 25,
   "metadata": {},
   "outputs": [
    {
     "data": {
      "text/plain": [
       "1776"
      ]
     },
     "execution_count": 25,
     "metadata": {},
     "output_type": "execute_result"
    }
   ],
   "source": [
    "df['dti'].isna().sum()"
   ]
  },
  {
   "cell_type": "code",
   "execution_count": 26,
   "metadata": {
    "scrolled": true
   },
   "outputs": [],
   "source": [
    "dtimissingindex = df[df['dti'].isna() == True].index"
   ]
  },
  {
   "cell_type": "code",
   "execution_count": 27,
   "metadata": {},
   "outputs": [],
   "source": [
    "df.drop(dtimissingindex, axis = 0, inplace = True)"
   ]
  },
  {
   "cell_type": "code",
   "execution_count": 28,
   "metadata": {
    "scrolled": true
   },
   "outputs": [
    {
     "data": {
      "text/html": [
       "<div>\n",
       "<style scoped>\n",
       "    .dataframe tbody tr th:only-of-type {\n",
       "        vertical-align: middle;\n",
       "    }\n",
       "\n",
       "    .dataframe tbody tr th {\n",
       "        vertical-align: top;\n",
       "    }\n",
       "\n",
       "    .dataframe thead th {\n",
       "        text-align: right;\n",
       "    }\n",
       "</style>\n",
       "<table border=\"1\" class=\"dataframe\">\n",
       "  <thead>\n",
       "    <tr style=\"text-align: right;\">\n",
       "      <th></th>\n",
       "      <th>loan_amnt</th>\n",
       "      <th>funded_amnt</th>\n",
       "      <th>funded_amnt_inv</th>\n",
       "      <th>term</th>\n",
       "      <th>int_rate</th>\n",
       "      <th>installment</th>\n",
       "      <th>grade</th>\n",
       "      <th>sub_grade</th>\n",
       "      <th>emp_length</th>\n",
       "      <th>home_ownership</th>\n",
       "      <th>...</th>\n",
       "      <th>pub_rec_bankruptcies</th>\n",
       "      <th>tax_liens</th>\n",
       "      <th>tot_hi_cred_lim</th>\n",
       "      <th>total_bal_ex_mort</th>\n",
       "      <th>total_bc_limit</th>\n",
       "      <th>total_il_high_credit_limit</th>\n",
       "      <th>hardship_flag</th>\n",
       "      <th>disbursement_method</th>\n",
       "      <th>debt_settlement_flag</th>\n",
       "      <th>TARGET</th>\n",
       "    </tr>\n",
       "  </thead>\n",
       "  <tbody>\n",
       "    <tr>\n",
       "      <th>0</th>\n",
       "      <td>3600.0</td>\n",
       "      <td>3600.0</td>\n",
       "      <td>3600.0</td>\n",
       "      <td>36</td>\n",
       "      <td>13.99</td>\n",
       "      <td>123.03</td>\n",
       "      <td>C</td>\n",
       "      <td>C4</td>\n",
       "      <td>10</td>\n",
       "      <td>MORTGAGE</td>\n",
       "      <td>...</td>\n",
       "      <td>0.0</td>\n",
       "      <td>0.0</td>\n",
       "      <td>178050.0</td>\n",
       "      <td>7746.0</td>\n",
       "      <td>2400.0</td>\n",
       "      <td>13734.0</td>\n",
       "      <td>N</td>\n",
       "      <td>Cash</td>\n",
       "      <td>N</td>\n",
       "      <td>0</td>\n",
       "    </tr>\n",
       "    <tr>\n",
       "      <th>1</th>\n",
       "      <td>24700.0</td>\n",
       "      <td>24700.0</td>\n",
       "      <td>24700.0</td>\n",
       "      <td>36</td>\n",
       "      <td>11.99</td>\n",
       "      <td>820.28</td>\n",
       "      <td>C</td>\n",
       "      <td>C1</td>\n",
       "      <td>10</td>\n",
       "      <td>MORTGAGE</td>\n",
       "      <td>...</td>\n",
       "      <td>0.0</td>\n",
       "      <td>0.0</td>\n",
       "      <td>314017.0</td>\n",
       "      <td>39475.0</td>\n",
       "      <td>79300.0</td>\n",
       "      <td>24667.0</td>\n",
       "      <td>N</td>\n",
       "      <td>Cash</td>\n",
       "      <td>N</td>\n",
       "      <td>0</td>\n",
       "    </tr>\n",
       "    <tr>\n",
       "      <th>2</th>\n",
       "      <td>20000.0</td>\n",
       "      <td>20000.0</td>\n",
       "      <td>20000.0</td>\n",
       "      <td>60</td>\n",
       "      <td>10.78</td>\n",
       "      <td>432.66</td>\n",
       "      <td>B</td>\n",
       "      <td>B4</td>\n",
       "      <td>10</td>\n",
       "      <td>MORTGAGE</td>\n",
       "      <td>...</td>\n",
       "      <td>0.0</td>\n",
       "      <td>0.0</td>\n",
       "      <td>218418.0</td>\n",
       "      <td>18696.0</td>\n",
       "      <td>6200.0</td>\n",
       "      <td>14877.0</td>\n",
       "      <td>N</td>\n",
       "      <td>Cash</td>\n",
       "      <td>N</td>\n",
       "      <td>0</td>\n",
       "    </tr>\n",
       "    <tr>\n",
       "      <th>3</th>\n",
       "      <td>35000.0</td>\n",
       "      <td>35000.0</td>\n",
       "      <td>35000.0</td>\n",
       "      <td>60</td>\n",
       "      <td>14.85</td>\n",
       "      <td>829.90</td>\n",
       "      <td>C</td>\n",
       "      <td>C5</td>\n",
       "      <td>10</td>\n",
       "      <td>MORTGAGE</td>\n",
       "      <td>...</td>\n",
       "      <td>0.0</td>\n",
       "      <td>0.0</td>\n",
       "      <td>381215.0</td>\n",
       "      <td>52226.0</td>\n",
       "      <td>62500.0</td>\n",
       "      <td>18000.0</td>\n",
       "      <td>N</td>\n",
       "      <td>Cash</td>\n",
       "      <td>N</td>\n",
       "      <td>0</td>\n",
       "    </tr>\n",
       "    <tr>\n",
       "      <th>4</th>\n",
       "      <td>10400.0</td>\n",
       "      <td>10400.0</td>\n",
       "      <td>10400.0</td>\n",
       "      <td>60</td>\n",
       "      <td>22.45</td>\n",
       "      <td>289.91</td>\n",
       "      <td>F</td>\n",
       "      <td>F1</td>\n",
       "      <td>3</td>\n",
       "      <td>MORTGAGE</td>\n",
       "      <td>...</td>\n",
       "      <td>0.0</td>\n",
       "      <td>0.0</td>\n",
       "      <td>439570.0</td>\n",
       "      <td>95768.0</td>\n",
       "      <td>20300.0</td>\n",
       "      <td>88097.0</td>\n",
       "      <td>N</td>\n",
       "      <td>Cash</td>\n",
       "      <td>N</td>\n",
       "      <td>0</td>\n",
       "    </tr>\n",
       "  </tbody>\n",
       "</table>\n",
       "<p>5 rows × 107 columns</p>\n",
       "</div>"
      ],
      "text/plain": [
       "   loan_amnt  funded_amnt  funded_amnt_inv  term  int_rate  installment grade  \\\n",
       "0     3600.0       3600.0           3600.0    36     13.99       123.03     C   \n",
       "1    24700.0      24700.0          24700.0    36     11.99       820.28     C   \n",
       "2    20000.0      20000.0          20000.0    60     10.78       432.66     B   \n",
       "3    35000.0      35000.0          35000.0    60     14.85       829.90     C   \n",
       "4    10400.0      10400.0          10400.0    60     22.45       289.91     F   \n",
       "\n",
       "  sub_grade  emp_length home_ownership  ...  pub_rec_bankruptcies tax_liens  \\\n",
       "0        C4          10       MORTGAGE  ...                   0.0       0.0   \n",
       "1        C1          10       MORTGAGE  ...                   0.0       0.0   \n",
       "2        B4          10       MORTGAGE  ...                   0.0       0.0   \n",
       "3        C5          10       MORTGAGE  ...                   0.0       0.0   \n",
       "4        F1           3       MORTGAGE  ...                   0.0       0.0   \n",
       "\n",
       "   tot_hi_cred_lim total_bal_ex_mort total_bc_limit  \\\n",
       "0         178050.0            7746.0         2400.0   \n",
       "1         314017.0           39475.0        79300.0   \n",
       "2         218418.0           18696.0         6200.0   \n",
       "3         381215.0           52226.0        62500.0   \n",
       "4         439570.0           95768.0        20300.0   \n",
       "\n",
       "  total_il_high_credit_limit  hardship_flag  disbursement_method  \\\n",
       "0                    13734.0              N                 Cash   \n",
       "1                    24667.0              N                 Cash   \n",
       "2                    14877.0              N                 Cash   \n",
       "3                    18000.0              N                 Cash   \n",
       "4                    88097.0              N                 Cash   \n",
       "\n",
       "   debt_settlement_flag  TARGET  \n",
       "0                     N       0  \n",
       "1                     N       0  \n",
       "2                     N       0  \n",
       "3                     N       0  \n",
       "4                     N       0  \n",
       "\n",
       "[5 rows x 107 columns]"
      ]
     },
     "execution_count": 28,
     "metadata": {},
     "output_type": "execute_result"
    }
   ],
   "source": [
    "df.head()"
   ]
  },
  {
   "cell_type": "code",
   "execution_count": 29,
   "metadata": {
    "scrolled": true
   },
   "outputs": [
    {
     "data": {
      "text/plain": [
       "Index(['loan_amnt', 'funded_amnt', 'funded_amnt_inv', 'term', 'int_rate',\n",
       "       'installment', 'grade', 'sub_grade', 'emp_length', 'home_ownership',\n",
       "       ...\n",
       "       'pub_rec_bankruptcies', 'tax_liens', 'tot_hi_cred_lim',\n",
       "       'total_bal_ex_mort', 'total_bc_limit', 'total_il_high_credit_limit',\n",
       "       'hardship_flag', 'disbursement_method', 'debt_settlement_flag',\n",
       "       'TARGET'],\n",
       "      dtype='object', length=107)"
      ]
     },
     "execution_count": 29,
     "metadata": {},
     "output_type": "execute_result"
    }
   ],
   "source": [
    "df.columns"
   ]
  },
  {
   "cell_type": "markdown",
   "metadata": {},
   "source": [
    "## Conducting Train Test Split"
   ]
  },
  {
   "cell_type": "code",
   "execution_count": 31,
   "metadata": {},
   "outputs": [],
   "source": [
    "def preprocess_inputs(df):\n",
    "    df = df.copy()\n",
    "    \n",
    "    #Binary Encode\n",
    "    df = dummy_encoding(df)\n",
    "    \n",
    "    #split into x and y arrays\n",
    "    y = df['TARGET']\n",
    "    X = df.drop('TARGET', axis = 1)\n",
    "    \n",
    "    #Train Test Split\n",
    "    X_train, X_test, y_train, y_test = train_test_split(X, y, train_size = 0.8, random_state = 1, stratify = y)\n",
    "    \n",
    "    #Scale X\n",
    "    sc = StandardScaler()\n",
    "    sc.fit(X_train)\n",
    "    X_train = pd.DataFrame(sc.transform(X_train), index = X_train.index, columns = X_train.columns)\n",
    "    X_test = pd.DataFrame(sc.transform(X_test), index = X_test.index, columns = X_test.columns)\n",
    "    \n",
    "    \n",
    "    return X_train, X_test, y_train, y_test"
   ]
  },
  {
   "cell_type": "code",
   "execution_count": 32,
   "metadata": {},
   "outputs": [],
   "source": [
    "X_train, X_test, y_train, y_test = preprocess_inputs(df)"
   ]
  },
  {
   "cell_type": "code",
   "execution_count": 37,
   "metadata": {},
   "outputs": [],
   "source": [
    "pd.set_option('display.float_format', lambda x: '%.5f' % x)\n",
    "#pd.reset_option('display.float_format')\n",
    "pd.set_option('display.max_columns', None)"
   ]
  },
  {
   "cell_type": "code",
   "execution_count": 33,
   "metadata": {
    "scrolled": true
   },
   "outputs": [
    {
     "name": "stdout",
     "output_type": "stream",
     "text": [
      "\n",
      "\n",
      "X_train:          loan_amnt  funded_amnt  funded_amnt_inv      term  int_rate  \\\n",
      "1924011  -1.398611    -1.398298        -1.395728 -0.635838 -0.689288   \n",
      "1035226  -0.658378    -0.657931        -0.655675 -0.635838 -0.227963   \n",
      "1623057   0.103628     0.104212         0.106144  1.572728  0.351279   \n",
      "1420675   0.212486     0.213090         0.214975  1.572728  0.630557   \n",
      "871623   -0.549520    -0.549053        -0.546844  1.572728 -1.086482   \n",
      "...            ...          ...              ...       ...       ...   \n",
      "113296   -0.154910    -0.154372        -0.152330  1.572728  1.427014   \n",
      "1964606   0.373051     0.373684         0.375502  1.572728  2.461375   \n",
      "1754348  -0.671985    -0.671541        -0.669279 -0.635838  1.735254   \n",
      "1386002   1.083349     1.084111         1.085626 -0.635838  0.630557   \n",
      "1183412  -0.691035    -0.690594        -0.688324 -0.635838  0.520914   \n",
      "\n",
      "         installment  emp_length  annual_inc   issue_d       dti  ...  \\\n",
      "1924011    -1.404066    0.893088   -0.341284 -2.177057 -0.756643  ...   \n",
      "1035226    -0.550211    1.158390   -0.162048 -0.094885 -0.209700  ...   \n",
      "1623057    -0.250835    0.893088   -0.206857 -2.688094 -0.056001  ...   \n",
      "1420675    -0.116847    1.158390   -0.162048  1.388035  0.423094  ...   \n",
      "871623     -0.912839    1.158390    0.743092  1.200959 -0.121773  ...   \n",
      "...              ...         ...         ...       ...       ...  ...   \n",
      "113296     -0.318090   -1.229335   -0.242704 -0.326068  1.006731  ...   \n",
      "1964606     0.360270    1.158390   -0.305437  0.184969  0.700719  ...   \n",
      "1754348    -0.409225    1.158390   -0.457787 -1.343580  0.236856  ...   \n",
      "1386002     1.627167   -1.494638   -0.242704  1.433664  0.940267  ...   \n",
      "1183412    -0.530338   -1.229335   -0.368169 -0.881213  0.471557  ...   \n",
      "\n",
      "         initial_list_status_f  initial_list_status_w  \\\n",
      "1924011               1.454000              -1.454000   \n",
      "1035226              -0.687758               0.687758   \n",
      "1623057               1.454000              -1.454000   \n",
      "1420675               1.454000              -1.454000   \n",
      "871623               -0.687758               0.687758   \n",
      "...                        ...                    ...   \n",
      "113296               -0.687758               0.687758   \n",
      "1964606               1.454000              -1.454000   \n",
      "1754348               1.454000              -1.454000   \n",
      "1386002               1.454000              -1.454000   \n",
      "1183412               1.454000              -1.454000   \n",
      "\n",
      "         application_type_Individual  application_type_Joint App  \\\n",
      "1924011                     0.235771                   -0.235771   \n",
      "1035226                     0.235771                   -0.235771   \n",
      "1623057                     0.235771                   -0.235771   \n",
      "1420675                    -4.241412                    4.241412   \n",
      "871623                      0.235771                   -0.235771   \n",
      "...                              ...                         ...   \n",
      "113296                      0.235771                   -0.235771   \n",
      "1964606                     0.235771                   -0.235771   \n",
      "1754348                     0.235771                   -0.235771   \n",
      "1386002                     0.235771                   -0.235771   \n",
      "1183412                     0.235771                   -0.235771   \n",
      "\n",
      "         hardship_flag_N  hardship_flag_Y  disbursement_method_Cash  \\\n",
      "1924011         0.019194        -0.019194                  0.189136   \n",
      "1035226         0.019194        -0.019194                  0.189136   \n",
      "1623057         0.019194        -0.019194                  0.189136   \n",
      "1420675         0.019194        -0.019194                 -5.287201   \n",
      "871623          0.019194        -0.019194                  0.189136   \n",
      "...                  ...              ...                       ...   \n",
      "113296          0.019194        -0.019194                  0.189136   \n",
      "1964606         0.019194        -0.019194                  0.189136   \n",
      "1754348         0.019194        -0.019194                  0.189136   \n",
      "1386002         0.019194        -0.019194                  0.189136   \n",
      "1183412         0.019194        -0.019194                  0.189136   \n",
      "\n",
      "         disbursement_method_DirectPay  debt_settlement_flag_N  \\\n",
      "1924011                      -0.189136                0.124018   \n",
      "1035226                      -0.189136                0.124018   \n",
      "1623057                      -0.189136                0.124018   \n",
      "1420675                       5.287201                0.124018   \n",
      "871623                       -0.189136                0.124018   \n",
      "...                                ...                     ...   \n",
      "113296                       -0.189136                0.124018   \n",
      "1964606                      -0.189136                0.124018   \n",
      "1754348                      -0.189136                0.124018   \n",
      "1386002                      -0.189136                0.124018   \n",
      "1183412                      -0.189136                0.124018   \n",
      "\n",
      "         debt_settlement_flag_Y  \n",
      "1924011               -0.124018  \n",
      "1035226               -0.124018  \n",
      "1623057               -0.124018  \n",
      "1420675               -0.124018  \n",
      "871623                -0.124018  \n",
      "...                         ...  \n",
      "113296                -0.124018  \n",
      "1964606               -0.124018  \n",
      "1754348               -0.124018  \n",
      "1386002               -0.124018  \n",
      "1183412               -0.124018  \n",
      "\n",
      "[1805776 rows x 222 columns] <class 'pandas.core.frame.DataFrame'> (1805776, 222) 1805776\n",
      "\n",
      "\n",
      "X_test          loan_amnt  funded_amnt  funded_amnt_inv      term  int_rate  \\\n",
      "892765   -0.549520    -0.549053        -0.546844 -0.635838 -1.216811   \n",
      "2015625  -0.375347    -0.374849        -0.372714  1.572728  2.771683   \n",
      "762776    0.321344     0.321968         0.321086 -0.635838  1.412533   \n",
      "1870043  -1.376840    -1.376523        -1.373961 -0.635838  1.635955   \n",
      "1236813   0.539059     0.539723         0.541469  1.572728  0.661587   \n",
      "...            ...          ...              ...       ...       ...   \n",
      "1407856   0.756775     0.757478         0.759132 -0.635838  2.132448   \n",
      "1210445  -0.549520    -0.549053        -0.546844  1.572728  0.183713   \n",
      "1202064  -1.093809    -1.093441        -1.091000 -0.635838 -1.117513   \n",
      "672367   -0.821664    -0.821247        -0.846130 -0.635838 -0.484484   \n",
      "1257699   0.318622     0.319246         0.321086  1.572728  2.360008   \n",
      "\n",
      "         installment  emp_length  annual_inc   issue_d       dti  ...  \\\n",
      "892765     -0.509603   -0.698730    0.106805  0.600187 -0.599483  ...   \n",
      "2015625    -0.356341    1.158390   -0.300956  0.090670  0.803185  ...   \n",
      "762776      0.832072   -0.698730   -0.162048  1.295258  1.022655  ...   \n",
      "1870043    -1.330410   -1.229335   -0.323360 -1.761839  0.113620  ...   \n",
      "1236813     0.162993   -0.698730   -0.027622 -1.021140 -0.209700  ...   \n",
      "...              ...         ...         ...       ...       ...  ...   \n",
      "1407856     1.535658    1.158390   -0.117239  1.388035  0.566407  ...   \n",
      "1210445    -0.798388   -1.229335    0.017187 -0.973990 -0.804414  ...   \n",
      "1202064    -1.085115   -1.229335   -0.287513 -0.973990 -0.208315  ...   \n",
      "672367     -0.753177    0.893088   -0.027622  0.045042  0.268011  ...   \n",
      "1257699     0.286090   -0.433427    0.061996 -1.066768 -0.755259  ...   \n",
      "\n",
      "         initial_list_status_f  initial_list_status_w  \\\n",
      "892765               -0.687758               0.687758   \n",
      "2015625              -0.687758               0.687758   \n",
      "762776                1.454000              -1.454000   \n",
      "1870043              -0.687758               0.687758   \n",
      "1236813               1.454000              -1.454000   \n",
      "...                        ...                    ...   \n",
      "1407856              -0.687758               0.687758   \n",
      "1210445              -0.687758               0.687758   \n",
      "1202064              -0.687758               0.687758   \n",
      "672367                1.454000              -1.454000   \n",
      "1257699              -0.687758               0.687758   \n",
      "\n",
      "         application_type_Individual  application_type_Joint App  \\\n",
      "892765                      0.235771                   -0.235771   \n",
      "2015625                     0.235771                   -0.235771   \n",
      "762776                      0.235771                   -0.235771   \n",
      "1870043                     0.235771                   -0.235771   \n",
      "1236813                     0.235771                   -0.235771   \n",
      "...                              ...                         ...   \n",
      "1407856                     0.235771                   -0.235771   \n",
      "1210445                     0.235771                   -0.235771   \n",
      "1202064                     0.235771                   -0.235771   \n",
      "672367                      0.235771                   -0.235771   \n",
      "1257699                     0.235771                   -0.235771   \n",
      "\n",
      "         hardship_flag_N  hardship_flag_Y  disbursement_method_Cash  \\\n",
      "892765          0.019194        -0.019194                  0.189136   \n",
      "2015625         0.019194        -0.019194                  0.189136   \n",
      "762776          0.019194        -0.019194                  0.189136   \n",
      "1870043         0.019194        -0.019194                  0.189136   \n",
      "1236813         0.019194        -0.019194                  0.189136   \n",
      "...                  ...              ...                       ...   \n",
      "1407856         0.019194        -0.019194                  0.189136   \n",
      "1210445         0.019194        -0.019194                  0.189136   \n",
      "1202064         0.019194        -0.019194                  0.189136   \n",
      "672367          0.019194        -0.019194                  0.189136   \n",
      "1257699         0.019194        -0.019194                  0.189136   \n",
      "\n",
      "         disbursement_method_DirectPay  debt_settlement_flag_N  \\\n",
      "892765                       -0.189136                0.124018   \n",
      "2015625                      -0.189136                0.124018   \n",
      "762776                       -0.189136                0.124018   \n",
      "1870043                      -0.189136                0.124018   \n",
      "1236813                      -0.189136                0.124018   \n",
      "...                                ...                     ...   \n",
      "1407856                      -0.189136                0.124018   \n",
      "1210445                      -0.189136                0.124018   \n",
      "1202064                      -0.189136                0.124018   \n",
      "672367                       -0.189136                0.124018   \n",
      "1257699                      -0.189136                0.124018   \n",
      "\n",
      "         debt_settlement_flag_Y  \n",
      "892765                -0.124018  \n",
      "2015625               -0.124018  \n",
      "762776                -0.124018  \n",
      "1870043               -0.124018  \n",
      "1236813               -0.124018  \n",
      "...                         ...  \n",
      "1407856               -0.124018  \n",
      "1210445               -0.124018  \n",
      "1202064               -0.124018  \n",
      "672367                -0.124018  \n",
      "1257699               -0.124018  \n",
      "\n",
      "[451445 rows x 222 columns] <class 'pandas.core.frame.DataFrame'> (451445, 222) 451445\n",
      "\n",
      "\n",
      "y_train 1924011    0\n",
      "1035226    0\n",
      "1623057    0\n",
      "1420675    0\n",
      "871623     0\n",
      "          ..\n",
      "113296     0\n",
      "1964606    0\n",
      "1754348    0\n",
      "1386002    0\n",
      "1183412    0\n",
      "Name: TARGET, Length: 1805776, dtype: int64 <class 'pandas.core.series.Series'> (1805776,) 1805776\n",
      "\n",
      "\n",
      "y_test 892765     0\n",
      "2015625    0\n",
      "762776     0\n",
      "1870043    0\n",
      "1236813    0\n",
      "          ..\n",
      "1407856    0\n",
      "1210445    0\n",
      "1202064    0\n",
      "672367     0\n",
      "1257699    0\n",
      "Name: TARGET, Length: 451445, dtype: int64 <class 'pandas.core.series.Series'> (451445,) 451445\n"
     ]
    }
   ],
   "source": [
    "print(\"\\n\")\n",
    "print(\"X_train:\", X_train, type(X_train), X_train.shape, len(X_train)) #TrainX\n",
    "\n",
    "print(\"\\n\")\n",
    "print(\"X_test\", X_test, type(X_test), X_test.shape, len(X_test)) #TestX\n",
    "\n",
    "print(\"\\n\")\n",
    "print(\"y_train\", y_train, type(y_train), y_train.shape, len(y_train)) #Trainy\n",
    "\n",
    "print(\"\\n\")\n",
    "print(\"y_test\", y_test, type(y_test), y_test.shape, len(y_test)) #Testy"
   ]
  },
  {
   "cell_type": "markdown",
   "metadata": {},
   "source": [
    "# Creating A Baseline For Accuracy (Logistic Regression & Random Forest)\n",
    "### Logistic Regression No Resampling"
   ]
  },
  {
   "cell_type": "code",
   "execution_count": 34,
   "metadata": {},
   "outputs": [
    {
     "name": "stdout",
     "output_type": "stream",
     "text": [
      "\n",
      "\n",
      "[Test] Accuracy score (y_predict_test, y_test): 0.9999800640166576\n",
      "\n",
      "\n",
      "[Test] Accuracy score: (X_test, y_predict_test) 0.9999800640166576\n",
      "\n",
      "\n",
      "[Training] Accuracy score: (y_train, y_predict_training) 0.9999817253081223\n"
     ]
    }
   ],
   "source": [
    "clf = LogisticRegression()\n",
    "\n",
    "clf.fit(X_train, y_train) \n",
    "\n",
    "y_predict_test = clf.predict(X_test)\n",
    "print(\"\\n\")\n",
    "print(\"[Test] Accuracy score (y_predict_test, y_test):\",accuracy_score(y_predict_test, y_test))\n",
    "\n",
    "y_predict_training = clf.predict(X_train)\n",
    "print(\"\\n\")\n",
    "print(\"[Training] Accuracy score: (y_train, y_predict_training)\",accuracy_score(y_train, y_predict_training))"
   ]
  },
  {
   "cell_type": "code",
   "execution_count": 48,
   "metadata": {
    "scrolled": true
   },
   "outputs": [
    {
     "name": "stdout",
     "output_type": "stream",
     "text": [
      "[Training Classification Report]\n",
      "              precision    recall  f1-score   support\n",
      "\n",
      "           0       1.00      1.00      1.00   1805744\n",
      "           1       0.00      0.00      0.00        32\n",
      "\n",
      "    accuracy                           1.00   1805776\n",
      "   macro avg       0.50      0.50      0.50   1805776\n",
      "weighted avg       1.00      1.00      1.00   1805776\n",
      "\n",
      "[Test Classification Report]\n",
      "              precision    recall  f1-score   support\n",
      "\n",
      "           0       1.00      1.00      1.00    451437\n",
      "           1       0.00      0.00      0.00         8\n",
      "\n",
      "    accuracy                           1.00    451445\n",
      "   macro avg       0.50      0.50      0.50    451445\n",
      "weighted avg       1.00      1.00      1.00    451445\n",
      "\n"
     ]
    }
   ],
   "source": [
    "from sklearn.metrics import classification_report\n",
    "# ref: http://scikit-learn.org/stable/modules/generated/sklearn.metrics.classification_report.html#sklearn.metrics.classification_report\n",
    "\n",
    "print(\"[Training Classification Report]\")\n",
    "print(classification_report(y_train, y_predict_training))\n",
    "\n",
    "print(\"[Test Classification Report]\")\n",
    "print(classification_report(y_test, y_predict_test))"
   ]
  },
  {
   "cell_type": "markdown",
   "metadata": {},
   "source": [
    "### Random Forest No Resampling"
   ]
  },
  {
   "cell_type": "code",
   "execution_count": 49,
   "metadata": {},
   "outputs": [],
   "source": [
    "from sklearn.ensemble import RandomForestClassifier"
   ]
  },
  {
   "cell_type": "code",
   "execution_count": 50,
   "metadata": {},
   "outputs": [
    {
     "data": {
      "text/plain": [
       "RandomForestClassifier(n_estimators=40, random_state=21)"
      ]
     },
     "execution_count": 50,
     "metadata": {},
     "output_type": "execute_result"
    }
   ],
   "source": [
    "clf_rf = RandomForestClassifier(n_estimators=40, random_state=21)\n",
    "clf_rf.fit(X_train, y_train)"
   ]
  },
  {
   "cell_type": "code",
   "execution_count": 54,
   "metadata": {
    "scrolled": true
   },
   "outputs": [
    {
     "name": "stdout",
     "output_type": "stream",
     "text": [
      "\n",
      "\n",
      "[Test] Accuracy score (y_clf_rf_predict_test, y_test): 0.9999822791259179\n",
      "\n",
      "\n",
      "[Training] Accuracy score: (y_train, y_clf_rf_predict_training) 0.9999994462214582\n"
     ]
    }
   ],
   "source": [
    "y_clf_rf_predict_test = clf_rf.predict(X_test)\n",
    "print(\"\\n\")\n",
    "print(\"[Test] Accuracy score (y_clf_rf_predict_test, y_test):\",accuracy_score(y_clf_rf_predict_test, y_test))"
   ]
  },
  {
   "cell_type": "code",
   "execution_count": 56,
   "metadata": {},
   "outputs": [
    {
     "name": "stdout",
     "output_type": "stream",
     "text": [
      "[Training Classification Report]\n",
      "              precision    recall  f1-score   support\n",
      "\n",
      "           0       1.00      1.00      1.00   1805744\n",
      "           1       1.00      0.97      0.98        32\n",
      "\n",
      "    accuracy                           1.00   1805776\n",
      "   macro avg       1.00      0.98      0.99   1805776\n",
      "weighted avg       1.00      1.00      1.00   1805776\n",
      "\n",
      "[Test Classification Report]\n",
      "              precision    recall  f1-score   support\n",
      "\n",
      "           0       1.00      1.00      1.00    451437\n",
      "           1       0.00      0.00      0.00         8\n",
      "\n",
      "    accuracy                           1.00    451445\n",
      "   macro avg       0.50      0.50      0.50    451445\n",
      "weighted avg       1.00      1.00      1.00    451445\n",
      "\n"
     ]
    }
   ],
   "source": [
    "print(\"[Training Classification Report]\")\n",
    "print(classification_report(y_train, y_clf_rf_predict_training))\n",
    "\n",
    "print(\"[Test Classification Report]\")\n",
    "print(classification_report(y_test, y_clf_rf_predict_test))"
   ]
  },
  {
   "cell_type": "code",
   "execution_count": 57,
   "metadata": {},
   "outputs": [],
   "source": [
    "import pickle\n",
    "with open('lending_club_modeling_pick.pkl', 'wb') as pickle_file:\n",
    "    pickle.dump(df, pickle_file)"
   ]
  },
  {
   "cell_type": "markdown",
   "metadata": {},
   "source": [
    "# Conclusion"
   ]
  },
  {
   "cell_type": "markdown",
   "metadata": {},
   "source": [
    "It's obvious in the classification report that the LR and RF are overfit to the majority class given precision and recall of 0.00 in both validation sets. Oversampling and undersampling needs to be conducted. In the next notebook I will go conduct 2 oversampling methods and 2 classification algoritms."
   ]
  }
 ],
 "metadata": {
  "kernelspec": {
   "display_name": "Python 3",
   "language": "python",
   "name": "python3"
  },
  "language_info": {
   "codemirror_mode": {
    "name": "ipython",
    "version": 3
   },
   "file_extension": ".py",
   "mimetype": "text/x-python",
   "name": "python",
   "nbconvert_exporter": "python",
   "pygments_lexer": "ipython3",
   "version": "3.7.6"
  }
 },
 "nbformat": 4,
 "nbformat_minor": 4
}
